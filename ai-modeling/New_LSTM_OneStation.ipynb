{
 "cells": [
  {
   "cell_type": "code",
   "execution_count": 1,
   "id": "b66a2dbc-38fd-4002-8aae-758b9178f5ba",
   "metadata": {},
   "outputs": [],
   "source": [
    "import torch"
   ]
  },
  {
   "cell_type": "code",
   "execution_count": 2,
   "id": "25be8753-3710-47d6-8fab-7ffa87914a4a",
   "metadata": {},
   "outputs": [
    {
     "data": {
      "text/plain": [
       "'2.0.1+cu118'"
      ]
     },
     "execution_count": 2,
     "metadata": {},
     "output_type": "execute_result"
    }
   ],
   "source": [
    "torch.__version__"
   ]
  },
  {
   "cell_type": "code",
   "execution_count": 3,
   "id": "60f6f689-f478-495b-a4cb-50eeb847239e",
   "metadata": {},
   "outputs": [
    {
     "data": {
      "text/plain": [
       "True"
      ]
     },
     "execution_count": 3,
     "metadata": {},
     "output_type": "execute_result"
    }
   ],
   "source": [
    "torch.cuda.is_available()"
   ]
  },
  {
   "cell_type": "code",
   "execution_count": 1,
   "id": "4449e606-f56b-4897-8fde-49a60ba1611c",
   "metadata": {},
   "outputs": [
    {
     "name": "stdout",
     "output_type": "stream",
     "text": [
      "       location_id   utilization  connector_count  congested_connectors  \\\n",
      "count      19165.0  19165.000000          19165.0          19165.000000   \n",
      "mean      138883.0     43.916667              4.0              1.671328   \n",
      "std            0.0     11.815591              0.0              0.625199   \n",
      "min       138883.0      0.416667              4.0              0.000000   \n",
      "25%       138883.0     50.000000              4.0              2.000000   \n",
      "50%       138883.0     50.000000              4.0              2.000000   \n",
      "75%       138883.0     50.000000              4.0              2.000000   \n",
      "max       138883.0     64.583333              4.0              2.000000   \n",
      "\n",
      "       charging_minutes  \n",
      "count      19165.000000  \n",
      "mean         105.400000  \n",
      "std           28.357418  \n",
      "min            1.000000  \n",
      "25%          120.000000  \n",
      "50%          120.000000  \n",
      "75%          120.000000  \n",
      "max          155.000000  \n",
      "cuda\n"
     ]
    },
    {
     "name": "stderr",
     "output_type": "stream",
     "text": [
      "  1%|▋                                                                         | 1/100 [00:05<09:03,  5.49s/it]"
     ]
    },
    {
     "name": "stdout",
     "output_type": "stream",
     "text": [
      "Epoch [1/50], Train Loss: 524.2381, Validation Loss: 285.5098\n"
     ]
    },
    {
     "name": "stderr",
     "output_type": "stream",
     "text": [
      "  2%|█▍                                                                        | 2/100 [00:10<08:34,  5.25s/it]"
     ]
    },
    {
     "name": "stdout",
     "output_type": "stream",
     "text": [
      "Epoch [2/50], Train Loss: 305.9142, Validation Loss: 284.5448\n"
     ]
    },
    {
     "name": "stderr",
     "output_type": "stream",
     "text": [
      "  3%|██▏                                                                       | 3/100 [00:15<08:21,  5.17s/it]"
     ]
    },
    {
     "name": "stdout",
     "output_type": "stream",
     "text": [
      "Epoch [3/50], Train Loss: 305.7839, Validation Loss: 285.9274\n"
     ]
    },
    {
     "name": "stderr",
     "output_type": "stream",
     "text": [
      "  4%|██▉                                                                       | 4/100 [00:20<08:12,  5.13s/it]"
     ]
    },
    {
     "name": "stdout",
     "output_type": "stream",
     "text": [
      "Epoch [4/50], Train Loss: 305.8559, Validation Loss: 286.7046\n"
     ]
    },
    {
     "name": "stderr",
     "output_type": "stream",
     "text": [
      "  5%|███▋                                                                      | 5/100 [00:25<08:05,  5.11s/it]"
     ]
    },
    {
     "name": "stdout",
     "output_type": "stream",
     "text": [
      "Epoch [5/50], Train Loss: 305.8980, Validation Loss: 287.1823\n"
     ]
    },
    {
     "name": "stderr",
     "output_type": "stream",
     "text": [
      "  6%|████▍                                                                     | 6/100 [00:30<07:59,  5.10s/it]"
     ]
    },
    {
     "name": "stdout",
     "output_type": "stream",
     "text": [
      "Epoch [6/50], Train Loss: 305.9258, Validation Loss: 287.4947\n"
     ]
    },
    {
     "name": "stderr",
     "output_type": "stream",
     "text": [
      "  7%|█████▏                                                                    | 7/100 [00:35<07:53,  5.09s/it]"
     ]
    },
    {
     "name": "stdout",
     "output_type": "stream",
     "text": [
      "Epoch [7/50], Train Loss: 305.9452, Validation Loss: 287.7076\n"
     ]
    },
    {
     "name": "stderr",
     "output_type": "stream",
     "text": [
      "  8%|█████▉                                                                    | 8/100 [00:41<07:48,  5.09s/it]"
     ]
    },
    {
     "name": "stdout",
     "output_type": "stream",
     "text": [
      "Epoch [8/50], Train Loss: 305.9593, Validation Loss: 287.8574\n"
     ]
    },
    {
     "name": "stderr",
     "output_type": "stream",
     "text": [
      "  9%|██████▋                                                                   | 9/100 [00:46<07:42,  5.09s/it]"
     ]
    },
    {
     "name": "stdout",
     "output_type": "stream",
     "text": [
      "Epoch [9/50], Train Loss: 305.9696, Validation Loss: 287.9648\n"
     ]
    },
    {
     "name": "stderr",
     "output_type": "stream",
     "text": [
      " 10%|███████▎                                                                 | 10/100 [00:51<07:37,  5.09s/it]"
     ]
    },
    {
     "name": "stdout",
     "output_type": "stream",
     "text": [
      "Epoch [10/50], Train Loss: 305.9774, Validation Loss: 288.0431\n"
     ]
    },
    {
     "name": "stderr",
     "output_type": "stream",
     "text": [
      " 11%|████████                                                                 | 11/100 [00:56<07:32,  5.09s/it]"
     ]
    },
    {
     "name": "stdout",
     "output_type": "stream",
     "text": [
      "Epoch [11/50], Train Loss: 305.9830, Validation Loss: 288.1013\n"
     ]
    },
    {
     "name": "stderr",
     "output_type": "stream",
     "text": [
      " 12%|████████▊                                                                | 12/100 [01:01<07:27,  5.08s/it]"
     ]
    },
    {
     "name": "stdout",
     "output_type": "stream",
     "text": [
      "Epoch [12/50], Train Loss: 305.9853, Validation Loss: 288.1399\n"
     ]
    },
    {
     "name": "stderr",
     "output_type": "stream",
     "text": [
      " 13%|█████████▍                                                               | 13/100 [01:06<07:22,  5.09s/it]"
     ]
    },
    {
     "name": "stdout",
     "output_type": "stream",
     "text": [
      "Epoch [13/50], Train Loss: 233.7751, Validation Loss: 36.0566\n"
     ]
    },
    {
     "name": "stderr",
     "output_type": "stream",
     "text": [
      " 14%|██████████▏                                                              | 14/100 [01:11<07:17,  5.08s/it]"
     ]
    },
    {
     "name": "stdout",
     "output_type": "stream",
     "text": [
      "Epoch [14/50], Train Loss: 60.1730, Validation Loss: 45.2248\n"
     ]
    },
    {
     "name": "stderr",
     "output_type": "stream",
     "text": [
      " 15%|██████████▉                                                              | 15/100 [01:16<07:12,  5.09s/it]"
     ]
    },
    {
     "name": "stdout",
     "output_type": "stream",
     "text": [
      "Epoch [15/50], Train Loss: 37.5235, Validation Loss: 30.5491\n"
     ]
    },
    {
     "name": "stderr",
     "output_type": "stream",
     "text": [
      " 16%|███████████▋                                                             | 16/100 [01:21<07:07,  5.09s/it]"
     ]
    },
    {
     "name": "stdout",
     "output_type": "stream",
     "text": [
      "Epoch [16/50], Train Loss: 28.0554, Validation Loss: 30.3404\n"
     ]
    },
    {
     "name": "stderr",
     "output_type": "stream",
     "text": [
      " 17%|████████████▍                                                            | 17/100 [01:26<07:01,  5.08s/it]"
     ]
    },
    {
     "name": "stdout",
     "output_type": "stream",
     "text": [
      "Epoch [17/50], Train Loss: 24.4568, Validation Loss: 26.3864\n"
     ]
    },
    {
     "name": "stderr",
     "output_type": "stream",
     "text": [
      " 18%|█████████████▏                                                           | 18/100 [01:31<06:57,  5.09s/it]"
     ]
    },
    {
     "name": "stdout",
     "output_type": "stream",
     "text": [
      "Epoch [18/50], Train Loss: 21.9618, Validation Loss: 24.0448\n"
     ]
    },
    {
     "name": "stderr",
     "output_type": "stream",
     "text": [
      " 19%|█████████████▊                                                           | 19/100 [01:36<06:52,  5.09s/it]"
     ]
    },
    {
     "name": "stdout",
     "output_type": "stream",
     "text": [
      "Epoch [19/50], Train Loss: 20.9427, Validation Loss: 23.4276\n"
     ]
    },
    {
     "name": "stderr",
     "output_type": "stream",
     "text": [
      " 20%|██████████████▌                                                          | 20/100 [01:42<06:47,  5.10s/it]"
     ]
    },
    {
     "name": "stdout",
     "output_type": "stream",
     "text": [
      "Epoch [20/50], Train Loss: 21.7545, Validation Loss: 24.2795\n"
     ]
    },
    {
     "name": "stderr",
     "output_type": "stream",
     "text": [
      " 21%|███████████████▎                                                         | 21/100 [01:47<06:42,  5.10s/it]"
     ]
    },
    {
     "name": "stdout",
     "output_type": "stream",
     "text": [
      "Epoch [21/50], Train Loss: 21.0858, Validation Loss: 25.0275\n"
     ]
    },
    {
     "name": "stderr",
     "output_type": "stream",
     "text": [
      " 22%|████████████████                                                         | 22/100 [01:52<06:37,  5.09s/it]"
     ]
    },
    {
     "name": "stdout",
     "output_type": "stream",
     "text": [
      "Epoch [22/50], Train Loss: 20.8368, Validation Loss: 23.8928\n"
     ]
    },
    {
     "name": "stderr",
     "output_type": "stream",
     "text": [
      " 23%|████████████████▊                                                        | 23/100 [01:57<06:32,  5.09s/it]"
     ]
    },
    {
     "name": "stdout",
     "output_type": "stream",
     "text": [
      "Epoch [23/50], Train Loss: 25.3664, Validation Loss: 23.0188\n"
     ]
    },
    {
     "name": "stderr",
     "output_type": "stream",
     "text": [
      " 24%|█████████████████▌                                                       | 24/100 [02:02<06:26,  5.09s/it]"
     ]
    },
    {
     "name": "stdout",
     "output_type": "stream",
     "text": [
      "Epoch [24/50], Train Loss: 20.0485, Validation Loss: 22.3706\n"
     ]
    },
    {
     "name": "stderr",
     "output_type": "stream",
     "text": [
      " 25%|██████████████████▎                                                      | 25/100 [02:07<06:22,  5.10s/it]"
     ]
    },
    {
     "name": "stdout",
     "output_type": "stream",
     "text": [
      "Epoch [25/50], Train Loss: 19.0788, Validation Loss: 22.0187\n"
     ]
    },
    {
     "name": "stderr",
     "output_type": "stream",
     "text": [
      " 26%|██████████████████▉                                                      | 26/100 [02:12<06:16,  5.09s/it]"
     ]
    },
    {
     "name": "stdout",
     "output_type": "stream",
     "text": [
      "Epoch [26/50], Train Loss: 18.9819, Validation Loss: 21.5023\n"
     ]
    },
    {
     "name": "stderr",
     "output_type": "stream",
     "text": [
      " 27%|███████████████████▋                                                     | 27/100 [02:17<06:11,  5.09s/it]"
     ]
    },
    {
     "name": "stdout",
     "output_type": "stream",
     "text": [
      "Epoch [27/50], Train Loss: 19.1367, Validation Loss: 21.8393\n"
     ]
    },
    {
     "name": "stderr",
     "output_type": "stream",
     "text": [
      " 28%|████████████████████▍                                                    | 28/100 [02:22<06:06,  5.09s/it]"
     ]
    },
    {
     "name": "stdout",
     "output_type": "stream",
     "text": [
      "Epoch [28/50], Train Loss: 18.9368, Validation Loss: 21.3971\n"
     ]
    },
    {
     "name": "stderr",
     "output_type": "stream",
     "text": [
      " 29%|█████████████████████▏                                                   | 29/100 [02:27<06:01,  5.09s/it]"
     ]
    },
    {
     "name": "stdout",
     "output_type": "stream",
     "text": [
      "Epoch [29/50], Train Loss: 18.9209, Validation Loss: 21.6869\n"
     ]
    },
    {
     "name": "stderr",
     "output_type": "stream",
     "text": [
      " 30%|█████████████████████▉                                                   | 30/100 [02:33<05:56,  5.09s/it]"
     ]
    },
    {
     "name": "stdout",
     "output_type": "stream",
     "text": [
      "Epoch [30/50], Train Loss: 18.1373, Validation Loss: 21.4446\n"
     ]
    },
    {
     "name": "stderr",
     "output_type": "stream",
     "text": [
      " 31%|██████████████████████▋                                                  | 31/100 [02:38<05:51,  5.09s/it]"
     ]
    },
    {
     "name": "stdout",
     "output_type": "stream",
     "text": [
      "Epoch [31/50], Train Loss: 18.8737, Validation Loss: 21.8532\n"
     ]
    },
    {
     "name": "stderr",
     "output_type": "stream",
     "text": [
      " 32%|███████████████████████▎                                                 | 32/100 [02:43<05:46,  5.10s/it]"
     ]
    },
    {
     "name": "stdout",
     "output_type": "stream",
     "text": [
      "Epoch [32/50], Train Loss: 18.5955, Validation Loss: 21.5439\n"
     ]
    },
    {
     "name": "stderr",
     "output_type": "stream",
     "text": [
      " 33%|████████████████████████                                                 | 33/100 [02:48<05:41,  5.10s/it]"
     ]
    },
    {
     "name": "stdout",
     "output_type": "stream",
     "text": [
      "Epoch [33/50], Train Loss: 18.7290, Validation Loss: 21.9821\n"
     ]
    },
    {
     "name": "stderr",
     "output_type": "stream",
     "text": [
      " 34%|████████████████████████▊                                                | 34/100 [02:53<05:36,  5.10s/it]"
     ]
    },
    {
     "name": "stdout",
     "output_type": "stream",
     "text": [
      "Epoch [34/50], Train Loss: 18.1334, Validation Loss: 21.1846\n"
     ]
    },
    {
     "name": "stderr",
     "output_type": "stream",
     "text": [
      " 35%|█████████████████████████▌                                               | 35/100 [02:58<05:31,  5.10s/it]"
     ]
    },
    {
     "name": "stdout",
     "output_type": "stream",
     "text": [
      "Epoch [35/50], Train Loss: 18.4444, Validation Loss: 22.6015\n"
     ]
    },
    {
     "name": "stderr",
     "output_type": "stream",
     "text": [
      " 36%|██████████████████████████▎                                              | 36/100 [03:03<05:26,  5.09s/it]"
     ]
    },
    {
     "name": "stdout",
     "output_type": "stream",
     "text": [
      "Epoch [36/50], Train Loss: 18.0850, Validation Loss: 21.1782\n"
     ]
    },
    {
     "name": "stderr",
     "output_type": "stream",
     "text": [
      " 37%|███████████████████████████                                              | 37/100 [03:08<05:20,  5.09s/it]"
     ]
    },
    {
     "name": "stdout",
     "output_type": "stream",
     "text": [
      "Epoch [37/50], Train Loss: 18.1319, Validation Loss: 21.1503\n"
     ]
    },
    {
     "name": "stderr",
     "output_type": "stream",
     "text": [
      " 38%|███████████████████████████▋                                             | 38/100 [03:13<05:15,  5.10s/it]"
     ]
    },
    {
     "name": "stdout",
     "output_type": "stream",
     "text": [
      "Epoch [38/50], Train Loss: 23.9182, Validation Loss: 25.5696\n"
     ]
    },
    {
     "name": "stderr",
     "output_type": "stream",
     "text": [
      " 39%|████████████████████████████▍                                            | 39/100 [03:18<05:11,  5.11s/it]"
     ]
    },
    {
     "name": "stdout",
     "output_type": "stream",
     "text": [
      "Epoch [39/50], Train Loss: 20.4718, Validation Loss: 21.7155\n"
     ]
    },
    {
     "name": "stderr",
     "output_type": "stream",
     "text": [
      " 40%|█████████████████████████████▏                                           | 40/100 [03:24<05:07,  5.13s/it]"
     ]
    },
    {
     "name": "stdout",
     "output_type": "stream",
     "text": [
      "Epoch [40/50], Train Loss: 18.1164, Validation Loss: 21.3717\n"
     ]
    },
    {
     "name": "stderr",
     "output_type": "stream",
     "text": [
      " 41%|█████████████████████████████▉                                           | 41/100 [03:29<05:03,  5.14s/it]"
     ]
    },
    {
     "name": "stdout",
     "output_type": "stream",
     "text": [
      "Epoch [41/50], Train Loss: 17.8877, Validation Loss: 21.3078\n"
     ]
    },
    {
     "name": "stderr",
     "output_type": "stream",
     "text": [
      " 42%|██████████████████████████████▋                                          | 42/100 [03:34<04:58,  5.14s/it]"
     ]
    },
    {
     "name": "stdout",
     "output_type": "stream",
     "text": [
      "Epoch [42/50], Train Loss: 17.7561, Validation Loss: 21.8389\n"
     ]
    },
    {
     "name": "stderr",
     "output_type": "stream",
     "text": [
      " 43%|███████████████████████████████▍                                         | 43/100 [03:39<04:53,  5.15s/it]"
     ]
    },
    {
     "name": "stdout",
     "output_type": "stream",
     "text": [
      "Epoch [43/50], Train Loss: 23.7718, Validation Loss: 24.1431\n"
     ]
    },
    {
     "name": "stderr",
     "output_type": "stream",
     "text": [
      " 44%|████████████████████████████████                                         | 44/100 [03:44<04:48,  5.15s/it]"
     ]
    },
    {
     "name": "stdout",
     "output_type": "stream",
     "text": [
      "Epoch [44/50], Train Loss: 18.4026, Validation Loss: 21.5535\n"
     ]
    },
    {
     "name": "stderr",
     "output_type": "stream",
     "text": [
      " 45%|████████████████████████████████▊                                        | 45/100 [03:49<04:43,  5.16s/it]"
     ]
    },
    {
     "name": "stdout",
     "output_type": "stream",
     "text": [
      "Epoch [45/50], Train Loss: 17.9072, Validation Loss: 21.3368\n"
     ]
    },
    {
     "name": "stderr",
     "output_type": "stream",
     "text": [
      " 46%|█████████████████████████████████▌                                       | 46/100 [03:55<04:38,  5.16s/it]"
     ]
    },
    {
     "name": "stdout",
     "output_type": "stream",
     "text": [
      "Epoch [46/50], Train Loss: 17.4587, Validation Loss: 21.0424\n"
     ]
    },
    {
     "name": "stderr",
     "output_type": "stream",
     "text": [
      " 47%|██████████████████████████████████▎                                      | 47/100 [04:00<04:33,  5.16s/it]"
     ]
    },
    {
     "name": "stdout",
     "output_type": "stream",
     "text": [
      "Epoch [47/50], Train Loss: 16.9980, Validation Loss: 20.0400\n"
     ]
    },
    {
     "name": "stderr",
     "output_type": "stream",
     "text": [
      " 48%|███████████████████████████████████                                      | 48/100 [04:05<04:28,  5.17s/it]"
     ]
    },
    {
     "name": "stdout",
     "output_type": "stream",
     "text": [
      "Epoch [48/50], Train Loss: 17.5441, Validation Loss: 20.9251\n"
     ]
    },
    {
     "name": "stderr",
     "output_type": "stream",
     "text": [
      " 49%|███████████████████████████████████▊                                     | 49/100 [04:10<04:23,  5.17s/it]"
     ]
    },
    {
     "name": "stdout",
     "output_type": "stream",
     "text": [
      "Epoch [49/50], Train Loss: 17.1330, Validation Loss: 21.1912\n"
     ]
    },
    {
     "name": "stderr",
     "output_type": "stream",
     "text": [
      " 50%|████████████████████████████████████▌                                    | 50/100 [04:15<04:18,  5.17s/it]"
     ]
    },
    {
     "name": "stdout",
     "output_type": "stream",
     "text": [
      "Epoch [50/50], Train Loss: 16.8751, Validation Loss: 20.8096\n"
     ]
    },
    {
     "name": "stderr",
     "output_type": "stream",
     "text": [
      " 51%|█████████████████████████████████████▏                                   | 51/100 [04:20<04:13,  5.17s/it]"
     ]
    },
    {
     "name": "stdout",
     "output_type": "stream",
     "text": [
      "Epoch [51/50], Train Loss: 16.8951, Validation Loss: 20.9204\n"
     ]
    },
    {
     "name": "stderr",
     "output_type": "stream",
     "text": [
      " 52%|█████████████████████████████████████▉                                   | 52/100 [04:26<04:08,  5.18s/it]"
     ]
    },
    {
     "name": "stdout",
     "output_type": "stream",
     "text": [
      "Epoch [52/50], Train Loss: 16.5831, Validation Loss: 21.1134\n"
     ]
    },
    {
     "name": "stderr",
     "output_type": "stream",
     "text": [
      " 53%|██████████████████████████████████████▋                                  | 53/100 [04:31<04:03,  5.18s/it]"
     ]
    },
    {
     "name": "stdout",
     "output_type": "stream",
     "text": [
      "Epoch [53/50], Train Loss: 16.4710, Validation Loss: 20.6990\n"
     ]
    },
    {
     "name": "stderr",
     "output_type": "stream",
     "text": [
      " 54%|███████████████████████████████████████▍                                 | 54/100 [04:36<03:58,  5.17s/it]"
     ]
    },
    {
     "name": "stdout",
     "output_type": "stream",
     "text": [
      "Epoch [54/50], Train Loss: 16.6474, Validation Loss: 22.7766\n"
     ]
    },
    {
     "name": "stderr",
     "output_type": "stream",
     "text": [
      " 55%|████████████████████████████████████████▏                                | 55/100 [04:41<03:52,  5.18s/it]"
     ]
    },
    {
     "name": "stdout",
     "output_type": "stream",
     "text": [
      "Epoch [55/50], Train Loss: 18.3256, Validation Loss: 20.7881\n"
     ]
    },
    {
     "name": "stderr",
     "output_type": "stream",
     "text": [
      " 56%|████████████████████████████████████████▉                                | 56/100 [04:46<03:47,  5.18s/it]"
     ]
    },
    {
     "name": "stdout",
     "output_type": "stream",
     "text": [
      "Epoch [56/50], Train Loss: 16.8594, Validation Loss: 21.7571\n"
     ]
    },
    {
     "name": "stderr",
     "output_type": "stream",
     "text": [
      " 57%|█████████████████████████████████████████▌                               | 57/100 [04:52<03:42,  5.18s/it]"
     ]
    },
    {
     "name": "stdout",
     "output_type": "stream",
     "text": [
      "Epoch [57/50], Train Loss: 17.4406, Validation Loss: 21.7711\n"
     ]
    },
    {
     "name": "stderr",
     "output_type": "stream",
     "text": [
      " 58%|██████████████████████████████████████████▎                              | 58/100 [04:57<03:37,  5.18s/it]"
     ]
    },
    {
     "name": "stdout",
     "output_type": "stream",
     "text": [
      "Epoch [58/50], Train Loss: 16.7575, Validation Loss: 20.5998\n"
     ]
    },
    {
     "name": "stderr",
     "output_type": "stream",
     "text": [
      " 59%|███████████████████████████████████████████                              | 59/100 [05:02<03:32,  5.18s/it]"
     ]
    },
    {
     "name": "stdout",
     "output_type": "stream",
     "text": [
      "Epoch [59/50], Train Loss: 16.3194, Validation Loss: 21.1362\n"
     ]
    },
    {
     "name": "stderr",
     "output_type": "stream",
     "text": [
      " 60%|███████████████████████████████████████████▊                             | 60/100 [05:07<03:26,  5.17s/it]"
     ]
    },
    {
     "name": "stdout",
     "output_type": "stream",
     "text": [
      "Epoch [60/50], Train Loss: 16.5476, Validation Loss: 21.3464\n"
     ]
    },
    {
     "name": "stderr",
     "output_type": "stream",
     "text": [
      " 61%|████████████████████████████████████████████▌                            | 61/100 [05:12<03:21,  5.18s/it]"
     ]
    },
    {
     "name": "stdout",
     "output_type": "stream",
     "text": [
      "Epoch [61/50], Train Loss: 16.7227, Validation Loss: 20.8156\n"
     ]
    },
    {
     "name": "stderr",
     "output_type": "stream",
     "text": [
      " 62%|█████████████████████████████████████████████▎                           | 62/100 [05:17<03:16,  5.18s/it]"
     ]
    },
    {
     "name": "stdout",
     "output_type": "stream",
     "text": [
      "Epoch [62/50], Train Loss: 16.4639, Validation Loss: 20.9974\n"
     ]
    },
    {
     "name": "stderr",
     "output_type": "stream",
     "text": [
      " 63%|█████████████████████████████████████████████▉                           | 63/100 [05:23<03:11,  5.18s/it]"
     ]
    },
    {
     "name": "stdout",
     "output_type": "stream",
     "text": [
      "Epoch [63/50], Train Loss: 15.8379, Validation Loss: 20.7941\n"
     ]
    },
    {
     "name": "stderr",
     "output_type": "stream",
     "text": [
      " 64%|██████████████████████████████████████████████▋                          | 64/100 [05:28<03:06,  5.18s/it]"
     ]
    },
    {
     "name": "stdout",
     "output_type": "stream",
     "text": [
      "Epoch [64/50], Train Loss: 16.1402, Validation Loss: 20.2723\n"
     ]
    },
    {
     "name": "stderr",
     "output_type": "stream",
     "text": [
      " 65%|███████████████████████████████████████████████▍                         | 65/100 [05:33<03:01,  5.18s/it]"
     ]
    },
    {
     "name": "stdout",
     "output_type": "stream",
     "text": [
      "Epoch [65/50], Train Loss: 16.1260, Validation Loss: 20.4272\n"
     ]
    },
    {
     "name": "stderr",
     "output_type": "stream",
     "text": [
      " 66%|████████████████████████████████████████████████▏                        | 66/100 [05:38<02:56,  5.18s/it]"
     ]
    },
    {
     "name": "stdout",
     "output_type": "stream",
     "text": [
      "Epoch [66/50], Train Loss: 15.7456, Validation Loss: 20.6001\n"
     ]
    },
    {
     "name": "stderr",
     "output_type": "stream",
     "text": [
      " 67%|████████████████████████████████████████████████▉                        | 67/100 [05:43<02:50,  5.18s/it]"
     ]
    },
    {
     "name": "stdout",
     "output_type": "stream",
     "text": [
      "Epoch [67/50], Train Loss: 27.9047, Validation Loss: 22.6731\n"
     ]
    },
    {
     "name": "stderr",
     "output_type": "stream",
     "text": [
      " 68%|█████████████████████████████████████████████████▋                       | 68/100 [05:48<02:45,  5.18s/it]"
     ]
    },
    {
     "name": "stdout",
     "output_type": "stream",
     "text": [
      "Epoch [68/50], Train Loss: 17.9333, Validation Loss: 22.3750\n"
     ]
    },
    {
     "name": "stderr",
     "output_type": "stream",
     "text": [
      " 69%|██████████████████████████████████████████████████▎                      | 69/100 [05:54<02:40,  5.18s/it]"
     ]
    },
    {
     "name": "stdout",
     "output_type": "stream",
     "text": [
      "Epoch [69/50], Train Loss: 18.8166, Validation Loss: 21.5800\n"
     ]
    },
    {
     "name": "stderr",
     "output_type": "stream",
     "text": [
      " 70%|███████████████████████████████████████████████████                      | 70/100 [05:59<02:35,  5.18s/it]"
     ]
    },
    {
     "name": "stdout",
     "output_type": "stream",
     "text": [
      "Epoch [70/50], Train Loss: 17.5556, Validation Loss: 21.3022\n"
     ]
    },
    {
     "name": "stderr",
     "output_type": "stream",
     "text": [
      " 71%|███████████████████████████████████████████████████▊                     | 71/100 [06:04<02:30,  5.18s/it]"
     ]
    },
    {
     "name": "stdout",
     "output_type": "stream",
     "text": [
      "Epoch [71/50], Train Loss: 16.6038, Validation Loss: 20.6544\n"
     ]
    },
    {
     "name": "stderr",
     "output_type": "stream",
     "text": [
      " 72%|████████████████████████████████████████████████████▌                    | 72/100 [06:09<02:25,  5.18s/it]"
     ]
    },
    {
     "name": "stdout",
     "output_type": "stream",
     "text": [
      "Epoch [72/50], Train Loss: 16.4601, Validation Loss: 21.2346\n"
     ]
    },
    {
     "name": "stderr",
     "output_type": "stream",
     "text": [
      " 73%|█████████████████████████████████████████████████████▎                   | 73/100 [06:14<02:19,  5.18s/it]"
     ]
    },
    {
     "name": "stdout",
     "output_type": "stream",
     "text": [
      "Epoch [73/50], Train Loss: 17.6015, Validation Loss: 22.4255\n"
     ]
    },
    {
     "name": "stderr",
     "output_type": "stream",
     "text": [
      " 74%|██████████████████████████████████████████████████████                   | 74/100 [06:20<02:14,  5.18s/it]"
     ]
    },
    {
     "name": "stdout",
     "output_type": "stream",
     "text": [
      "Epoch [74/50], Train Loss: 16.9504, Validation Loss: 20.6114\n"
     ]
    },
    {
     "name": "stderr",
     "output_type": "stream",
     "text": [
      " 75%|██████████████████████████████████████████████████████▊                  | 75/100 [06:25<02:09,  5.18s/it]"
     ]
    },
    {
     "name": "stdout",
     "output_type": "stream",
     "text": [
      "Epoch [75/50], Train Loss: 22.1691, Validation Loss: 23.2287\n"
     ]
    },
    {
     "name": "stderr",
     "output_type": "stream",
     "text": [
      " 76%|███████████████████████████████████████████████████████▍                 | 76/100 [06:30<02:04,  5.18s/it]"
     ]
    },
    {
     "name": "stdout",
     "output_type": "stream",
     "text": [
      "Epoch [76/50], Train Loss: 16.8651, Validation Loss: 21.3591\n"
     ]
    },
    {
     "name": "stderr",
     "output_type": "stream",
     "text": [
      " 77%|████████████████████████████████████████████████████████▏                | 77/100 [06:35<01:59,  5.18s/it]"
     ]
    },
    {
     "name": "stdout",
     "output_type": "stream",
     "text": [
      "Epoch [77/50], Train Loss: 16.2761, Validation Loss: 20.6846\n"
     ]
    },
    {
     "name": "stderr",
     "output_type": "stream",
     "text": [
      " 78%|████████████████████████████████████████████████████████▉                | 78/100 [06:40<01:53,  5.18s/it]"
     ]
    },
    {
     "name": "stdout",
     "output_type": "stream",
     "text": [
      "Epoch [78/50], Train Loss: 16.6443, Validation Loss: 20.9094\n"
     ]
    },
    {
     "name": "stderr",
     "output_type": "stream",
     "text": [
      " 79%|█████████████████████████████████████████████████████████▋               | 79/100 [06:45<01:48,  5.18s/it]"
     ]
    },
    {
     "name": "stdout",
     "output_type": "stream",
     "text": [
      "Epoch [79/50], Train Loss: 15.7995, Validation Loss: 20.4541\n"
     ]
    },
    {
     "name": "stderr",
     "output_type": "stream",
     "text": [
      " 80%|██████████████████████████████████████████████████████████▍              | 80/100 [06:51<01:43,  5.18s/it]"
     ]
    },
    {
     "name": "stdout",
     "output_type": "stream",
     "text": [
      "Epoch [80/50], Train Loss: 16.1868, Validation Loss: 21.1657\n"
     ]
    },
    {
     "name": "stderr",
     "output_type": "stream",
     "text": [
      " 81%|███████████████████████████████████████████████████████████▏             | 81/100 [06:56<01:38,  5.18s/it]"
     ]
    },
    {
     "name": "stdout",
     "output_type": "stream",
     "text": [
      "Epoch [81/50], Train Loss: 15.9168, Validation Loss: 20.3569\n"
     ]
    },
    {
     "name": "stderr",
     "output_type": "stream",
     "text": [
      " 82%|███████████████████████████████████████████████████████████▊             | 82/100 [07:01<01:33,  5.18s/it]"
     ]
    },
    {
     "name": "stdout",
     "output_type": "stream",
     "text": [
      "Epoch [82/50], Train Loss: 15.5155, Validation Loss: 21.1216\n"
     ]
    },
    {
     "name": "stderr",
     "output_type": "stream",
     "text": [
      " 83%|████████████████████████████████████████████████████████████▌            | 83/100 [07:06<01:28,  5.18s/it]"
     ]
    },
    {
     "name": "stdout",
     "output_type": "stream",
     "text": [
      "Epoch [83/50], Train Loss: 15.6976, Validation Loss: 20.8366\n"
     ]
    },
    {
     "name": "stderr",
     "output_type": "stream",
     "text": [
      " 84%|█████████████████████████████████████████████████████████████▎           | 84/100 [07:11<01:22,  5.18s/it]"
     ]
    },
    {
     "name": "stdout",
     "output_type": "stream",
     "text": [
      "Epoch [84/50], Train Loss: 15.3649, Validation Loss: 21.3373\n"
     ]
    },
    {
     "name": "stderr",
     "output_type": "stream",
     "text": [
      " 85%|██████████████████████████████████████████████████████████████           | 85/100 [07:17<01:17,  5.18s/it]"
     ]
    },
    {
     "name": "stdout",
     "output_type": "stream",
     "text": [
      "Epoch [85/50], Train Loss: 15.4482, Validation Loss: 19.0990\n"
     ]
    },
    {
     "name": "stderr",
     "output_type": "stream",
     "text": [
      " 86%|██████████████████████████████████████████████████████████████▊          | 86/100 [07:22<01:12,  5.18s/it]"
     ]
    },
    {
     "name": "stdout",
     "output_type": "stream",
     "text": [
      "Epoch [86/50], Train Loss: 15.3387, Validation Loss: 19.5866\n"
     ]
    },
    {
     "name": "stderr",
     "output_type": "stream",
     "text": [
      " 87%|███████████████████████████████████████████████████████████████▌         | 87/100 [07:27<01:07,  5.18s/it]"
     ]
    },
    {
     "name": "stdout",
     "output_type": "stream",
     "text": [
      "Epoch [87/50], Train Loss: 15.0224, Validation Loss: 20.7017\n"
     ]
    },
    {
     "name": "stderr",
     "output_type": "stream",
     "text": [
      " 88%|████████████████████████████████████████████████████████████████▏        | 88/100 [07:32<01:02,  5.18s/it]"
     ]
    },
    {
     "name": "stdout",
     "output_type": "stream",
     "text": [
      "Epoch [88/50], Train Loss: 16.2254, Validation Loss: 20.4928\n"
     ]
    },
    {
     "name": "stderr",
     "output_type": "stream",
     "text": [
      " 89%|████████████████████████████████████████████████████████████████▉        | 89/100 [07:37<00:56,  5.18s/it]"
     ]
    },
    {
     "name": "stdout",
     "output_type": "stream",
     "text": [
      "Epoch [89/50], Train Loss: 15.5480, Validation Loss: 18.7727\n"
     ]
    },
    {
     "name": "stderr",
     "output_type": "stream",
     "text": [
      " 90%|█████████████████████████████████████████████████████████████████▋       | 90/100 [07:42<00:51,  5.18s/it]"
     ]
    },
    {
     "name": "stdout",
     "output_type": "stream",
     "text": [
      "Epoch [90/50], Train Loss: 15.4969, Validation Loss: 21.1638\n"
     ]
    },
    {
     "name": "stderr",
     "output_type": "stream",
     "text": [
      " 91%|██████████████████████████████████████████████████████████████████▍      | 91/100 [07:48<00:46,  5.17s/it]"
     ]
    },
    {
     "name": "stdout",
     "output_type": "stream",
     "text": [
      "Epoch [91/50], Train Loss: 15.7411, Validation Loss: 21.1172\n"
     ]
    },
    {
     "name": "stderr",
     "output_type": "stream",
     "text": [
      " 92%|███████████████████████████████████████████████████████████████████▏     | 92/100 [07:53<00:41,  5.18s/it]"
     ]
    },
    {
     "name": "stdout",
     "output_type": "stream",
     "text": [
      "Epoch [92/50], Train Loss: 15.6970, Validation Loss: 19.9344\n"
     ]
    },
    {
     "name": "stderr",
     "output_type": "stream",
     "text": [
      " 93%|███████████████████████████████████████████████████████████████████▉     | 93/100 [07:58<00:36,  5.18s/it]"
     ]
    },
    {
     "name": "stdout",
     "output_type": "stream",
     "text": [
      "Epoch [93/50], Train Loss: 14.9810, Validation Loss: 21.7331\n"
     ]
    },
    {
     "name": "stderr",
     "output_type": "stream",
     "text": [
      " 94%|████████████████████████████████████████████████████████████████████▌    | 94/100 [08:03<00:31,  5.18s/it]"
     ]
    },
    {
     "name": "stdout",
     "output_type": "stream",
     "text": [
      "Epoch [94/50], Train Loss: 15.3047, Validation Loss: 20.2891\n"
     ]
    },
    {
     "name": "stderr",
     "output_type": "stream",
     "text": [
      " 95%|█████████████████████████████████████████████████████████████████████▎   | 95/100 [08:08<00:25,  5.18s/it]"
     ]
    },
    {
     "name": "stdout",
     "output_type": "stream",
     "text": [
      "Epoch [95/50], Train Loss: 15.0963, Validation Loss: 21.6745\n"
     ]
    },
    {
     "name": "stderr",
     "output_type": "stream",
     "text": [
      " 96%|██████████████████████████████████████████████████████████████████████   | 96/100 [08:14<00:20,  5.18s/it]"
     ]
    },
    {
     "name": "stdout",
     "output_type": "stream",
     "text": [
      "Epoch [96/50], Train Loss: 15.6293, Validation Loss: 22.0069\n"
     ]
    },
    {
     "name": "stderr",
     "output_type": "stream",
     "text": [
      " 97%|██████████████████████████████████████████████████████████████████████▊  | 97/100 [08:19<00:15,  5.18s/it]"
     ]
    },
    {
     "name": "stdout",
     "output_type": "stream",
     "text": [
      "Epoch [97/50], Train Loss: 15.9835, Validation Loss: 20.0715\n"
     ]
    },
    {
     "name": "stderr",
     "output_type": "stream",
     "text": [
      " 98%|███████████████████████████████████████████████████████████████████████▌ | 98/100 [08:24<00:10,  5.18s/it]"
     ]
    },
    {
     "name": "stdout",
     "output_type": "stream",
     "text": [
      "Epoch [98/50], Train Loss: 17.0701, Validation Loss: 23.5933\n"
     ]
    },
    {
     "name": "stderr",
     "output_type": "stream",
     "text": [
      " 99%|████████████████████████████████████████████████████████████████████████▎| 99/100 [08:29<00:05,  5.18s/it]"
     ]
    },
    {
     "name": "stdout",
     "output_type": "stream",
     "text": [
      "Epoch [99/50], Train Loss: 15.6988, Validation Loss: 21.1081\n"
     ]
    },
    {
     "name": "stderr",
     "output_type": "stream",
     "text": [
      "100%|████████████████████████████████████████████████████████████████████████| 100/100 [08:34<00:00,  5.15s/it]"
     ]
    },
    {
     "name": "stdout",
     "output_type": "stream",
     "text": [
      "Epoch [100/50], Train Loss: 14.8722, Validation Loss: 20.8906\n",
      "Training finished.\n",
      "18.772711024139866\n"
     ]
    },
    {
     "name": "stderr",
     "output_type": "stream",
     "text": [
      "\n"
     ]
    },
    {
     "data": {
      "text/plain": [
       "<All keys matched successfully>"
      ]
     },
     "execution_count": 1,
     "metadata": {},
     "output_type": "execute_result"
    }
   ],
   "source": [
    "import torch\n",
    "import torch.nn as nn\n",
    "import torch.nn.functional as F\n",
    "import torch.optim as optim\n",
    "from torch.utils.data import DataLoader, Dataset\n",
    "\n",
    "from tqdm import tqdm\n",
    "import numpy as np\n",
    "import pandas as pd\n",
    "import random\n",
    "import matplotlib.pyplot as plt\n",
    "import seaborn as sns\n",
    "sns.set_style('dark')\n",
    "\n",
    "def expand_data(dataframe, name):\n",
    "    '''inputs: original dataframe with values for ONE station'''\n",
    "\n",
    "    dataframe_copy = dataframe.copy()\n",
    "\n",
    "    # create new dataframe with index as every hour\n",
    "    dataframe_copy['Time'] = pd.to_datetime(dataframe_copy['charging_hour'], format='%Y-%m-%d %H:%M:%S+00:00').dt.tz_localize(None)\n",
    "\n",
    "    start_index = dataframe_copy.iloc[0, -1].date() #starting point is the day of the first index\n",
    "    end_index = dataframe_copy.iloc[-1, -1].date() # ending pojnt is the day of the last index\n",
    "    indices = pd.date_range(start_index, end_index, freq='1H')\n",
    "\n",
    "    dataframe_copy.set_index('Time', inplace=True)\n",
    "\n",
    "    print(dataframe.describe())\n",
    "    #dataframe.describe().to_csv('Opis podataka Osijek.csv', sep=';')\n",
    "\n",
    "    # new_dataframe is a dataframe that is expanded with zero values\n",
    "    new_dataframe = pd.DataFrame(index=indices, data=dataframe_copy)\n",
    "\n",
    "    # important features (charging_minutes, consumption, utilization) are filled with zeros\n",
    "    # other values (that are the same for each time step) are copied - like connector_count and location_accesstype\n",
    "    new_dataframe['location_accesstype_title'] = new_dataframe['location_accesstype_title'].fillna(dataframe_copy['location_accesstype_title'][0])\n",
    "    new_dataframe['charging_hour'] = new_dataframe['charging_hour'].fillna(np.nan)\n",
    "    # charging_hour column is filled with Nan values because it will be later dropped and is not necessary\n",
    "    new_dataframe['utilization'] = new_dataframe['utilization'].fillna(0.0)\n",
    "    new_dataframe['connector_count'] = new_dataframe['connector_count'].fillna(dataframe_copy['connector_count'][0])\n",
    "    new_dataframe['congested_connectors'] = new_dataframe['congested_connectors'].fillna(0.0)\n",
    "    new_dataframe['energy_consumption'] = new_dataframe['energy_consumption'].fillna(0.0)\n",
    "    new_dataframe['charging_minutes'] = new_dataframe['charging_minutes'].fillna(0.0)\n",
    "\n",
    "    # new_dataframe is then save to the .csv file\n",
    "    # new_dataframe.to_csv(r'C:\\Users\\ZVNE\\OneDrive - fer.hr\\projekti\\E-Mobility Grčka\\station data expanded ' + str(name) + '.csv', sep=';')\n",
    "\n",
    "    # expanded dataframe is returned\n",
    "    return new_dataframe\n",
    "\n",
    "class CustomDataset(Dataset):\n",
    "    def __init__(self, seq_len=5, max_len=1000, seq = []):\n",
    "        super(CustomDataset).__init__()\n",
    "        self.datalist = seq\n",
    "        self.data, self.targets = self.timeseries(self.datalist, seq_len)\n",
    "\n",
    "    def __len__(self):\n",
    "        return len(self.data)\n",
    "\n",
    "    def timeseries(self, data, window):\n",
    "        temp = []\n",
    "        targ = data[window:]\n",
    "        for i in range(len(data)-window):\n",
    "            temp.append(data[i:i+window])\n",
    "\n",
    "        return np.array(temp), targ\n",
    "\n",
    "    def __getitem__(self, index):\n",
    "        x = torch.tensor(self.data[index]).type(torch.Tensor)\n",
    "        y = torch.tensor(self.targets[index]).type(torch.Tensor)\n",
    "        return x,y\n",
    "\n",
    "\n",
    "class RNN(nn.Module):\n",
    "    def __init__(self, input_size, hidden_size, num_layers):\n",
    "        super().__init__()\n",
    "        self.hidden_size = hidden_size\n",
    "        self.num_layers = num_layers\n",
    "\n",
    "        self.lstm = nn.LSTM(input_size,hidden_size,num_layers,batch_first=True)\n",
    "        self.fc = nn.Linear(hidden_size, 1)\n",
    "\n",
    "    def forward(self, x):\n",
    "        # hidden states not defnined hence the value of h0,c0 == (0,0)\n",
    "        out, (hn, cn) = self.lstm(x)\n",
    "\n",
    "        # as the diagram suggest to take the last output in many to one\n",
    "        # print(out.shape)\n",
    "        # print(hn.shape)\n",
    "        # all batch, last column of seq, all hidden values\n",
    "        out = out[:, -1, :]\n",
    "        out = self.fc(out)\n",
    "\n",
    "        return out\n",
    "\n",
    "\n",
    "\n",
    "#df = pd.read_csv('station_data_hour_Opatija.csv')\n",
    "\n",
    "\n",
    "import psycopg2\n",
    "\n",
    "# Connect to the PostgreSQL database\n",
    "conn = psycopg2.connect(\n",
    "    host=\"34.171.207.247\",\n",
    "    database=\"localai\",\n",
    "    user=\"postgres\",\n",
    "    password=\"pglocalai\"\n",
    ")\n",
    "\n",
    "# Create a cursor object to interact with the database\n",
    "cursor = conn.cursor()\n",
    "\n",
    "# Execute a SELECT query to fetch data from a table\n",
    "query = \"SELECT * FROM ht_cpn_station_data_hour WHERE location_id = 138883\"\n",
    "cursor.execute(query)\n",
    "\n",
    "# Fetch all rows from the result set\n",
    "rows = cursor.fetchall()\n",
    "\n",
    "# Get the column names from the cursor description\n",
    "columns = [desc[0] for desc in cursor.description]\n",
    "\n",
    "# Create a Pandas DataFrame with the fetched data and column names\n",
    "df = pd.DataFrame(rows, columns=columns)\n",
    "\n",
    "# Close the cursor and connection\n",
    "cursor.close()\n",
    "conn.close()\n",
    "\n",
    "\n",
    "\n",
    "\n",
    "expanded_data = expand_data(df, \"name1\")\n",
    "data = expanded_data['utilization']\n",
    "data_np = data.to_numpy()\n",
    "\n",
    "train_size = int(len(data_np) * 0.8)\n",
    "val_size = int(len(data_np) * 0.1)\n",
    "test_size = len(data_np) - train_size - val_size\n",
    "\n",
    "train = data_np[:train_size]\n",
    "val = data_np[train_size:train_size+val_size]\n",
    "test = data_np[train_size+ val_size:]\n",
    "\n",
    "train_dataset = CustomDataset(seq_len=64, max_len=len(train), seq = train)\n",
    "val_dataset = CustomDataset(seq_len=64, max_len=len(val), seq = val)\n",
    "test_dataset = CustomDataset(seq_len=64, max_len=len(test), seq = test)\n",
    "\n",
    "\n",
    "train_dataloader = DataLoader(train_dataset, batch_size=64, shuffle=False)\n",
    "val_dataloader = DataLoader(val_dataset, batch_size=64, shuffle=False)\n",
    "test_dataloader = DataLoader(test_dataset, batch_size=64, shuffle=False)\n",
    "#collate_fn=custom_collector\n",
    "\n",
    "device = torch.device(\"cuda\" if torch.cuda.is_available() else \"cpu\")\n",
    "print(device)\n",
    "model = RNN(input_size=1, hidden_size=256, num_layers=4).to(device)\n",
    "\n",
    "loss_function = nn.MSELoss()\n",
    "learning_rate = 0.001\n",
    "optimizer = optim.Adam(model.parameters(), lr=learning_rate)\n",
    "\n",
    "\n",
    "# Placeholder for the best validation accuracy\n",
    "best_val_loss = float('inf')  # Initialize with a large value\n",
    "\n",
    "\n",
    "for e in tqdm(range(100)):\n",
    "    model.train()\n",
    "    total_loss = 0\n",
    "    for x,y in train_dataloader:\n",
    "        optimizer.zero_grad()\n",
    "\n",
    "        x, y = x.to(device), y.to(device)\n",
    "        x = torch.unsqueeze(x, 0).permute(1,2,0)\n",
    "        # forward\n",
    "        predictions = model(x)\n",
    "\n",
    "        loss = loss_function(predictions.view(-1), y.to(device))\n",
    "\n",
    "        # backward\n",
    "        loss.backward()\n",
    "\n",
    "        # optimization\n",
    "        optimizer.step()\n",
    "\n",
    "        total_loss += loss.item()\n",
    "\n",
    "    average_train_loss = total_loss / len(train_dataloader)\n",
    "\n",
    "\n",
    "    # Validation\n",
    "    model.eval()\n",
    "    val_loss = 0\n",
    "    predictions_list = []\n",
    "    with torch.no_grad():\n",
    "        # Initialize validation hidden states and cell states with the final states of the training set\n",
    "        #h0_val = h0.detach().clone()\n",
    "        #c0_val = c0.detach().clone()\n",
    "\n",
    "        for x_val,y_val in val_dataloader:\n",
    "            x_val, y_val = x_val.to(device), y_val.to(device)\n",
    "\n",
    "            # Forward pass with hidden states\n",
    "            x_val = torch.unsqueeze(x_val, 0).permute(1,2,0)\n",
    "            predictions = model(x_val)\n",
    "            #print(predictions.view(-1))\n",
    "            #print(y_val)\n",
    "            loss = loss_function(predictions.view(-1), y_val)\n",
    "            val_loss += loss.item()\n",
    "\n",
    "            # store predictions\n",
    "            predictions_list.extend(predictions.cpu().numpy())\n",
    "\n",
    "    average_val_loss = val_loss / len(val_dataloader)\n",
    "    # keep the model with the best performance in the validation set\n",
    "    if average_val_loss < best_val_loss:\n",
    "        best_val_loss = average_val_loss\n",
    "        best_model_state = model.state_dict()\n",
    "        best_predictions = predictions_list\n",
    "\n",
    "    print(f'Epoch [{e+1}/{50}], Train Loss: {average_train_loss:.4f}, Validation Loss: {average_val_loss:.4f}')\n",
    "\n",
    "print('Training finished.')\n",
    "print(best_val_loss)\n",
    "\n",
    "model.load_state_dict(best_model_state)\n",
    "\n",
    "\n"
   ]
  },
  {
   "cell_type": "code",
   "execution_count": 2,
   "id": "6276c9fe-c723-4321-9fff-986d747a34db",
   "metadata": {},
   "outputs": [
    {
     "name": "stdout",
     "output_type": "stream",
     "text": [
      "torch.Size([64, 1])\n"
     ]
    },
    {
     "data": {
      "image/png": "[encoded data removed]",
      "text/plain": [
       "<Figure size 640x480 with 1 Axes>"
      ]
     },
     "metadata": {},
     "output_type": "display_data"
    }
   ],
   "source": [
    "y = []\n",
    "\n",
    "with torch.no_grad():\n",
    "  for x_test,y_test in test_dataloader:\n",
    "      #optimizer.zero_grad()\n",
    "\n",
    "    x_test, y_test = x_test.to(device), y_test.to(device)\n",
    "    x_test = torch.unsqueeze(x_test, 0).permute(1,2,0)\n",
    "    # forward\n",
    "    predictions = model(x_test)\n",
    "    break\n",
    "\n",
    "print(predictions.shape)\n",
    "\n",
    "plt.plot(np.array(y_test.cpu()), label='Actual Utilization')\n",
    "plt.plot(np.array(predictions.cpu()), label='Predicted Utilization')\n",
    "plt.xlabel('hour')\n",
    "plt.ylabel('Utilization')\n",
    "plt.legend()\n",
    "plt.show()"
   ]
  },
  {
   "cell_type": "code",
   "execution_count": 8,
   "id": "ad0cfd4c-d471-4d70-91c1-5aa5a2154bfa",
   "metadata": {},
   "outputs": [
    {
     "name": "stdout",
     "output_type": "stream",
     "text": [
      "       location_id   utilization  connector_count  congested_connectors  \\\n",
      "count      16683.0  16683.000000          16683.0          16683.000000   \n",
      "mean         270.0     19.951410              8.0              1.148175   \n",
      "std            0.0     10.959625              0.0              0.882489   \n",
      "min          270.0      0.000000              8.0              0.000000   \n",
      "25%          270.0     12.500000              8.0              1.000000   \n",
      "50%          270.0     17.291667              8.0              1.000000   \n",
      "75%          270.0     25.000000              8.0              2.000000   \n",
      "max          270.0     62.500000              8.0              5.000000   \n",
      "\n",
      "       charging_minutes  \n",
      "count      16683.000000  \n",
      "mean          95.766769  \n",
      "std           52.606199  \n",
      "min            0.000000  \n",
      "25%           60.000000  \n",
      "50%           83.000000  \n",
      "75%          120.000000  \n",
      "max          300.000000  \n",
      "cuda\n"
     ]
    },
    {
     "name": "stderr",
     "output_type": "stream",
     "text": [
      "  1%|▋                                                                         | 1/100 [00:05<09:21,  5.67s/it]"
     ]
    },
    {
     "name": "stdout",
     "output_type": "stream",
     "text": [
      "Epoch [1/50], Train Loss: 171.6208, Validation Loss: 155.6718\n"
     ]
    },
    {
     "name": "stderr",
     "output_type": "stream",
     "text": [
      "  2%|█▍                                                                        | 2/100 [00:10<08:55,  5.46s/it]"
     ]
    },
    {
     "name": "stdout",
     "output_type": "stream",
     "text": [
      "Epoch [2/50], Train Loss: 164.6954, Validation Loss: 155.6646\n"
     ]
    },
    {
     "name": "stderr",
     "output_type": "stream",
     "text": [
      "  3%|██▏                                                                       | 3/100 [00:16<08:42,  5.39s/it]"
     ]
    },
    {
     "name": "stdout",
     "output_type": "stream",
     "text": [
      "Epoch [3/50], Train Loss: 164.6655, Validation Loss: 155.6631\n"
     ]
    },
    {
     "name": "stderr",
     "output_type": "stream",
     "text": [
      "  4%|██▉                                                                       | 4/100 [00:21<08:33,  5.35s/it]"
     ]
    },
    {
     "name": "stdout",
     "output_type": "stream",
     "text": [
      "Epoch [4/50], Train Loss: 164.6446, Validation Loss: 155.6610\n"
     ]
    },
    {
     "name": "stderr",
     "output_type": "stream",
     "text": [
      "  5%|███▋                                                                      | 5/100 [00:26<08:26,  5.34s/it]"
     ]
    },
    {
     "name": "stdout",
     "output_type": "stream",
     "text": [
      "Epoch [5/50], Train Loss: 164.6470, Validation Loss: 155.6620\n"
     ]
    },
    {
     "name": "stderr",
     "output_type": "stream",
     "text": [
      "  6%|████▍                                                                     | 6/100 [00:32<08:20,  5.33s/it]"
     ]
    },
    {
     "name": "stdout",
     "output_type": "stream",
     "text": [
      "Epoch [6/50], Train Loss: 164.6419, Validation Loss: 155.6612\n"
     ]
    },
    {
     "name": "stderr",
     "output_type": "stream",
     "text": [
      "  7%|█████▏                                                                    | 7/100 [00:37<08:14,  5.32s/it]"
     ]
    },
    {
     "name": "stdout",
     "output_type": "stream",
     "text": [
      "Epoch [7/50], Train Loss: 164.6364, Validation Loss: 155.6607\n"
     ]
    },
    {
     "name": "stderr",
     "output_type": "stream",
     "text": [
      "  8%|█████▉                                                                    | 8/100 [00:42<08:09,  5.32s/it]"
     ]
    },
    {
     "name": "stdout",
     "output_type": "stream",
     "text": [
      "Epoch [8/50], Train Loss: 164.6327, Validation Loss: 155.6603\n"
     ]
    },
    {
     "name": "stderr",
     "output_type": "stream",
     "text": [
      "  9%|██████▋                                                                   | 9/100 [00:48<08:04,  5.32s/it]"
     ]
    },
    {
     "name": "stdout",
     "output_type": "stream",
     "text": [
      "Epoch [9/50], Train Loss: 164.6299, Validation Loss: 155.6600\n"
     ]
    },
    {
     "name": "stderr",
     "output_type": "stream",
     "text": [
      " 10%|███████▎                                                                 | 10/100 [00:53<07:58,  5.32s/it]"
     ]
    },
    {
     "name": "stdout",
     "output_type": "stream",
     "text": [
      "Epoch [10/50], Train Loss: 164.6280, Validation Loss: 155.6598\n"
     ]
    },
    {
     "name": "stderr",
     "output_type": "stream",
     "text": [
      " 11%|████████                                                                 | 11/100 [00:58<07:53,  5.32s/it]"
     ]
    },
    {
     "name": "stdout",
     "output_type": "stream",
     "text": [
      "Epoch [11/50], Train Loss: 164.6265, Validation Loss: 155.6597\n"
     ]
    },
    {
     "name": "stderr",
     "output_type": "stream",
     "text": [
      " 12%|████████▊                                                                | 12/100 [01:04<07:47,  5.31s/it]"
     ]
    },
    {
     "name": "stdout",
     "output_type": "stream",
     "text": [
      "Epoch [12/50], Train Loss: 164.6255, Validation Loss: 155.6596\n"
     ]
    },
    {
     "name": "stderr",
     "output_type": "stream",
     "text": [
      " 13%|█████████▍                                                               | 13/100 [01:09<07:42,  5.31s/it]"
     ]
    },
    {
     "name": "stdout",
     "output_type": "stream",
     "text": [
      "Epoch [13/50], Train Loss: 164.6245, Validation Loss: 155.6595\n"
     ]
    },
    {
     "name": "stderr",
     "output_type": "stream",
     "text": [
      " 14%|██████████▏                                                              | 14/100 [01:14<07:36,  5.31s/it]"
     ]
    },
    {
     "name": "stdout",
     "output_type": "stream",
     "text": [
      "Epoch [14/50], Train Loss: 164.6240, Validation Loss: 155.6594\n"
     ]
    },
    {
     "name": "stderr",
     "output_type": "stream",
     "text": [
      " 15%|██████████▉                                                              | 15/100 [01:20<07:31,  5.31s/it]"
     ]
    },
    {
     "name": "stdout",
     "output_type": "stream",
     "text": [
      "Epoch [15/50], Train Loss: 164.6237, Validation Loss: 155.6594\n"
     ]
    },
    {
     "name": "stderr",
     "output_type": "stream",
     "text": [
      " 16%|███████████▋                                                             | 16/100 [01:25<07:25,  5.31s/it]"
     ]
    },
    {
     "name": "stdout",
     "output_type": "stream",
     "text": [
      "Epoch [16/50], Train Loss: 164.6238, Validation Loss: 155.6593\n"
     ]
    },
    {
     "name": "stderr",
     "output_type": "stream",
     "text": [
      " 17%|████████████▍                                                            | 17/100 [01:30<07:20,  5.31s/it]"
     ]
    },
    {
     "name": "stdout",
     "output_type": "stream",
     "text": [
      "Epoch [17/50], Train Loss: 164.6228, Validation Loss: 155.6593\n"
     ]
    },
    {
     "name": "stderr",
     "output_type": "stream",
     "text": [
      " 18%|█████████████▏                                                           | 18/100 [01:35<07:15,  5.31s/it]"
     ]
    },
    {
     "name": "stdout",
     "output_type": "stream",
     "text": [
      "Epoch [18/50], Train Loss: 164.6226, Validation Loss: 155.6593\n"
     ]
    },
    {
     "name": "stderr",
     "output_type": "stream",
     "text": [
      " 19%|█████████████▊                                                           | 19/100 [01:41<07:09,  5.30s/it]"
     ]
    },
    {
     "name": "stdout",
     "output_type": "stream",
     "text": [
      "Epoch [19/50], Train Loss: 164.6225, Validation Loss: 155.6593\n"
     ]
    },
    {
     "name": "stderr",
     "output_type": "stream",
     "text": [
      " 20%|██████████████▌                                                          | 20/100 [01:46<07:04,  5.30s/it]"
     ]
    },
    {
     "name": "stdout",
     "output_type": "stream",
     "text": [
      "Epoch [20/50], Train Loss: 164.6224, Validation Loss: 155.6592\n"
     ]
    },
    {
     "name": "stderr",
     "output_type": "stream",
     "text": [
      " 21%|███████████████▎                                                         | 21/100 [01:51<06:59,  5.30s/it]"
     ]
    },
    {
     "name": "stdout",
     "output_type": "stream",
     "text": [
      "Epoch [21/50], Train Loss: 164.6223, Validation Loss: 155.6592\n"
     ]
    },
    {
     "name": "stderr",
     "output_type": "stream",
     "text": [
      " 22%|████████████████                                                         | 22/100 [01:57<06:53,  5.31s/it]"
     ]
    },
    {
     "name": "stdout",
     "output_type": "stream",
     "text": [
      "Epoch [22/50], Train Loss: 164.6235, Validation Loss: 155.6592\n"
     ]
    },
    {
     "name": "stderr",
     "output_type": "stream",
     "text": [
      " 23%|████████████████▊                                                        | 23/100 [02:02<06:48,  5.31s/it]"
     ]
    },
    {
     "name": "stdout",
     "output_type": "stream",
     "text": [
      "Epoch [23/50], Train Loss: 164.6222, Validation Loss: 155.6592\n"
     ]
    },
    {
     "name": "stderr",
     "output_type": "stream",
     "text": [
      " 24%|█████████████████▌                                                       | 24/100 [02:07<06:43,  5.31s/it]"
     ]
    },
    {
     "name": "stdout",
     "output_type": "stream",
     "text": [
      "Epoch [24/50], Train Loss: 164.6222, Validation Loss: 155.6592\n"
     ]
    },
    {
     "name": "stderr",
     "output_type": "stream",
     "text": [
      " 25%|██████████████████▎                                                      | 25/100 [02:13<06:38,  5.31s/it]"
     ]
    },
    {
     "name": "stdout",
     "output_type": "stream",
     "text": [
      "Epoch [25/50], Train Loss: 164.6222, Validation Loss: 155.6592\n"
     ]
    },
    {
     "name": "stderr",
     "output_type": "stream",
     "text": [
      " 26%|██████████████████▉                                                      | 26/100 [02:18<06:32,  5.31s/it]"
     ]
    },
    {
     "name": "stdout",
     "output_type": "stream",
     "text": [
      "Epoch [26/50], Train Loss: 164.6222, Validation Loss: 155.6592\n"
     ]
    },
    {
     "name": "stderr",
     "output_type": "stream",
     "text": [
      " 27%|███████████████████▋                                                     | 27/100 [02:23<06:27,  5.31s/it]"
     ]
    },
    {
     "name": "stdout",
     "output_type": "stream",
     "text": [
      "Epoch [27/50], Train Loss: 164.6383, Validation Loss: 155.6613\n"
     ]
    },
    {
     "name": "stderr",
     "output_type": "stream",
     "text": [
      " 28%|████████████████████▍                                                    | 28/100 [02:28<06:22,  5.31s/it]"
     ]
    },
    {
     "name": "stdout",
     "output_type": "stream",
     "text": [
      "Epoch [28/50], Train Loss: 164.6428, Validation Loss: 155.6613\n"
     ]
    },
    {
     "name": "stderr",
     "output_type": "stream",
     "text": [
      " 29%|█████████████████████▏                                                   | 29/100 [02:34<06:16,  5.31s/it]"
     ]
    },
    {
     "name": "stdout",
     "output_type": "stream",
     "text": [
      "Epoch [29/50], Train Loss: 164.6430, Validation Loss: 155.6614\n"
     ]
    },
    {
     "name": "stderr",
     "output_type": "stream",
     "text": [
      " 30%|█████████████████████▉                                                   | 30/100 [02:39<06:11,  5.30s/it]"
     ]
    },
    {
     "name": "stdout",
     "output_type": "stream",
     "text": [
      "Epoch [30/50], Train Loss: 164.6432, Validation Loss: 155.6614\n"
     ]
    },
    {
     "name": "stderr",
     "output_type": "stream",
     "text": [
      " 31%|██████████████████████▋                                                  | 31/100 [02:44<06:05,  5.30s/it]"
     ]
    },
    {
     "name": "stdout",
     "output_type": "stream",
     "text": [
      "Epoch [31/50], Train Loss: 164.6434, Validation Loss: 155.6614\n"
     ]
    },
    {
     "name": "stderr",
     "output_type": "stream",
     "text": [
      " 32%|███████████████████████▎                                                 | 32/100 [02:50<06:00,  5.31s/it]"
     ]
    },
    {
     "name": "stdout",
     "output_type": "stream",
     "text": [
      "Epoch [32/50], Train Loss: 164.6435, Validation Loss: 155.6614\n"
     ]
    },
    {
     "name": "stderr",
     "output_type": "stream",
     "text": [
      " 33%|████████████████████████                                                 | 33/100 [02:55<05:55,  5.30s/it]"
     ]
    },
    {
     "name": "stdout",
     "output_type": "stream",
     "text": [
      "Epoch [33/50], Train Loss: 164.6436, Validation Loss: 155.6614\n"
     ]
    },
    {
     "name": "stderr",
     "output_type": "stream",
     "text": [
      " 34%|████████████████████████▊                                                | 34/100 [03:00<05:49,  5.30s/it]"
     ]
    },
    {
     "name": "stdout",
     "output_type": "stream",
     "text": [
      "Epoch [34/50], Train Loss: 164.6437, Validation Loss: 155.6614\n"
     ]
    },
    {
     "name": "stderr",
     "output_type": "stream",
     "text": [
      " 35%|█████████████████████████▌                                               | 35/100 [03:06<05:44,  5.30s/it]"
     ]
    },
    {
     "name": "stdout",
     "output_type": "stream",
     "text": [
      "Epoch [35/50], Train Loss: 164.6437, Validation Loss: 155.6614\n"
     ]
    },
    {
     "name": "stderr",
     "output_type": "stream",
     "text": [
      " 36%|██████████████████████████▎                                              | 36/100 [03:11<05:39,  5.30s/it]"
     ]
    },
    {
     "name": "stdout",
     "output_type": "stream",
     "text": [
      "Epoch [36/50], Train Loss: 164.6438, Validation Loss: 155.6614\n"
     ]
    },
    {
     "name": "stderr",
     "output_type": "stream",
     "text": [
      " 37%|███████████████████████████                                              | 37/100 [03:16<05:34,  5.30s/it]"
     ]
    },
    {
     "name": "stdout",
     "output_type": "stream",
     "text": [
      "Epoch [37/50], Train Loss: 164.6438, Validation Loss: 155.6614\n"
     ]
    },
    {
     "name": "stderr",
     "output_type": "stream",
     "text": [
      " 38%|███████████████████████████▋                                             | 38/100 [03:22<05:28,  5.30s/it]"
     ]
    },
    {
     "name": "stdout",
     "output_type": "stream",
     "text": [
      "Epoch [38/50], Train Loss: 164.6438, Validation Loss: 155.6614\n"
     ]
    },
    {
     "name": "stderr",
     "output_type": "stream",
     "text": [
      " 39%|████████████████████████████▍                                            | 39/100 [03:27<05:23,  5.30s/it]"
     ]
    },
    {
     "name": "stdout",
     "output_type": "stream",
     "text": [
      "Epoch [39/50], Train Loss: 164.6438, Validation Loss: 155.6614\n"
     ]
    },
    {
     "name": "stderr",
     "output_type": "stream",
     "text": [
      " 40%|█████████████████████████████▏                                           | 40/100 [03:32<05:18,  5.30s/it]"
     ]
    },
    {
     "name": "stdout",
     "output_type": "stream",
     "text": [
      "Epoch [40/50], Train Loss: 164.6439, Validation Loss: 155.6614\n"
     ]
    },
    {
     "name": "stderr",
     "output_type": "stream",
     "text": [
      " 41%|█████████████████████████████▉                                           | 41/100 [03:37<05:12,  5.30s/it]"
     ]
    },
    {
     "name": "stdout",
     "output_type": "stream",
     "text": [
      "Epoch [41/50], Train Loss: 164.7089, Validation Loss: 155.7496\n"
     ]
    },
    {
     "name": "stderr",
     "output_type": "stream",
     "text": [
      " 42%|██████████████████████████████▋                                          | 42/100 [03:43<05:07,  5.30s/it]"
     ]
    },
    {
     "name": "stdout",
     "output_type": "stream",
     "text": [
      "Epoch [42/50], Train Loss: 164.8922, Validation Loss: 155.6847\n"
     ]
    },
    {
     "name": "stderr",
     "output_type": "stream",
     "text": [
      " 43%|███████████████████████████████▍                                         | 43/100 [03:48<05:02,  5.30s/it]"
     ]
    },
    {
     "name": "stdout",
     "output_type": "stream",
     "text": [
      "Epoch [43/50], Train Loss: 164.8846, Validation Loss: 155.6850\n"
     ]
    },
    {
     "name": "stderr",
     "output_type": "stream",
     "text": [
      " 44%|████████████████████████████████                                         | 44/100 [03:53<04:56,  5.30s/it]"
     ]
    },
    {
     "name": "stdout",
     "output_type": "stream",
     "text": [
      "Epoch [44/50], Train Loss: 161.9177, Validation Loss: 100.6312\n"
     ]
    },
    {
     "name": "stderr",
     "output_type": "stream",
     "text": [
      " 45%|████████████████████████████████▊                                        | 45/100 [03:59<04:51,  5.30s/it]"
     ]
    },
    {
     "name": "stdout",
     "output_type": "stream",
     "text": [
      "Epoch [45/50], Train Loss: 66.9301, Validation Loss: 63.8860\n"
     ]
    },
    {
     "name": "stderr",
     "output_type": "stream",
     "text": [
      " 46%|█████████████████████████████████▌                                       | 46/100 [04:04<04:46,  5.30s/it]"
     ]
    },
    {
     "name": "stdout",
     "output_type": "stream",
     "text": [
      "Epoch [46/50], Train Loss: 49.8523, Validation Loss: 61.2511\n"
     ]
    },
    {
     "name": "stderr",
     "output_type": "stream",
     "text": [
      " 47%|██████████████████████████████████▎                                      | 47/100 [04:09<04:41,  5.30s/it]"
     ]
    },
    {
     "name": "stdout",
     "output_type": "stream",
     "text": [
      "Epoch [47/50], Train Loss: 47.0740, Validation Loss: 56.5822\n"
     ]
    },
    {
     "name": "stderr",
     "output_type": "stream",
     "text": [
      " 48%|███████████████████████████████████                                      | 48/100 [04:15<04:35,  5.30s/it]"
     ]
    },
    {
     "name": "stdout",
     "output_type": "stream",
     "text": [
      "Epoch [48/50], Train Loss: 46.4850, Validation Loss: 56.0256\n"
     ]
    },
    {
     "name": "stderr",
     "output_type": "stream",
     "text": [
      " 49%|███████████████████████████████████▊                                     | 49/100 [04:20<04:30,  5.31s/it]"
     ]
    },
    {
     "name": "stdout",
     "output_type": "stream",
     "text": [
      "Epoch [49/50], Train Loss: 46.7406, Validation Loss: 55.2010\n"
     ]
    },
    {
     "name": "stderr",
     "output_type": "stream",
     "text": [
      " 50%|████████████████████████████████████▌                                    | 50/100 [04:25<04:25,  5.31s/it]"
     ]
    },
    {
     "name": "stdout",
     "output_type": "stream",
     "text": [
      "Epoch [50/50], Train Loss: 45.3099, Validation Loss: 54.3168\n"
     ]
    },
    {
     "name": "stderr",
     "output_type": "stream",
     "text": [
      " 51%|█████████████████████████████████████▏                                   | 51/100 [04:30<04:19,  5.30s/it]"
     ]
    },
    {
     "name": "stdout",
     "output_type": "stream",
     "text": [
      "Epoch [51/50], Train Loss: 44.3519, Validation Loss: 54.2156\n"
     ]
    },
    {
     "name": "stderr",
     "output_type": "stream",
     "text": [
      " 52%|█████████████████████████████████████▉                                   | 52/100 [04:36<04:14,  5.30s/it]"
     ]
    },
    {
     "name": "stdout",
     "output_type": "stream",
     "text": [
      "Epoch [52/50], Train Loss: 43.7931, Validation Loss: 53.6199\n"
     ]
    },
    {
     "name": "stderr",
     "output_type": "stream",
     "text": [
      " 53%|██████████████████████████████████████▋                                  | 53/100 [04:41<04:09,  5.31s/it]"
     ]
    },
    {
     "name": "stdout",
     "output_type": "stream",
     "text": [
      "Epoch [53/50], Train Loss: 43.7400, Validation Loss: 54.1485\n"
     ]
    },
    {
     "name": "stderr",
     "output_type": "stream",
     "text": [
      " 54%|███████████████████████████████████████▍                                 | 54/100 [04:46<04:04,  5.31s/it]"
     ]
    },
    {
     "name": "stdout",
     "output_type": "stream",
     "text": [
      "Epoch [54/50], Train Loss: 43.1099, Validation Loss: 53.2910\n"
     ]
    },
    {
     "name": "stderr",
     "output_type": "stream",
     "text": [
      " 55%|████████████████████████████████████████▏                                | 55/100 [04:52<03:58,  5.31s/it]"
     ]
    },
    {
     "name": "stdout",
     "output_type": "stream",
     "text": [
      "Epoch [55/50], Train Loss: 45.2257, Validation Loss: 54.2991\n"
     ]
    },
    {
     "name": "stderr",
     "output_type": "stream",
     "text": [
      " 56%|████████████████████████████████████████▉                                | 56/100 [04:57<03:53,  5.31s/it]"
     ]
    },
    {
     "name": "stdout",
     "output_type": "stream",
     "text": [
      "Epoch [56/50], Train Loss: 42.9566, Validation Loss: 54.0346\n"
     ]
    },
    {
     "name": "stderr",
     "output_type": "stream",
     "text": [
      " 57%|█████████████████████████████████████████▌                               | 57/100 [05:02<03:48,  5.31s/it]"
     ]
    },
    {
     "name": "stdout",
     "output_type": "stream",
     "text": [
      "Epoch [57/50], Train Loss: 42.5338, Validation Loss: 53.7353\n"
     ]
    },
    {
     "name": "stderr",
     "output_type": "stream",
     "text": [
      " 58%|██████████████████████████████████████████▎                              | 58/100 [05:08<03:42,  5.31s/it]"
     ]
    },
    {
     "name": "stdout",
     "output_type": "stream",
     "text": [
      "Epoch [58/50], Train Loss: 42.2641, Validation Loss: 53.7203\n"
     ]
    },
    {
     "name": "stderr",
     "output_type": "stream",
     "text": [
      " 59%|███████████████████████████████████████████                              | 59/100 [05:13<03:37,  5.30s/it]"
     ]
    },
    {
     "name": "stdout",
     "output_type": "stream",
     "text": [
      "Epoch [59/50], Train Loss: 41.9176, Validation Loss: 53.3845\n"
     ]
    },
    {
     "name": "stderr",
     "output_type": "stream",
     "text": [
      " 60%|███████████████████████████████████████████▊                             | 60/100 [05:18<03:32,  5.30s/it]"
     ]
    },
    {
     "name": "stdout",
     "output_type": "stream",
     "text": [
      "Epoch [60/50], Train Loss: 41.6958, Validation Loss: 53.6940\n"
     ]
    },
    {
     "name": "stderr",
     "output_type": "stream",
     "text": [
      " 61%|████████████████████████████████████████████▌                            | 61/100 [05:24<03:26,  5.30s/it]"
     ]
    },
    {
     "name": "stdout",
     "output_type": "stream",
     "text": [
      "Epoch [61/50], Train Loss: 41.4527, Validation Loss: 53.5880\n"
     ]
    },
    {
     "name": "stderr",
     "output_type": "stream",
     "text": [
      " 62%|█████████████████████████████████████████████▎                           | 62/100 [05:29<03:21,  5.30s/it]"
     ]
    },
    {
     "name": "stdout",
     "output_type": "stream",
     "text": [
      "Epoch [62/50], Train Loss: 41.1957, Validation Loss: 53.2235\n"
     ]
    },
    {
     "name": "stderr",
     "output_type": "stream",
     "text": [
      " 63%|█████████████████████████████████████████████▉                           | 63/100 [05:34<03:16,  5.30s/it]"
     ]
    },
    {
     "name": "stdout",
     "output_type": "stream",
     "text": [
      "Epoch [63/50], Train Loss: 40.8150, Validation Loss: 53.3035\n"
     ]
    },
    {
     "name": "stderr",
     "output_type": "stream",
     "text": [
      " 64%|██████████████████████████████████████████████▋                          | 64/100 [05:39<03:10,  5.30s/it]"
     ]
    },
    {
     "name": "stdout",
     "output_type": "stream",
     "text": [
      "Epoch [64/50], Train Loss: 40.6947, Validation Loss: 53.7770\n"
     ]
    },
    {
     "name": "stderr",
     "output_type": "stream",
     "text": [
      " 65%|███████████████████████████████████████████████▍                         | 65/100 [05:45<03:05,  5.30s/it]"
     ]
    },
    {
     "name": "stdout",
     "output_type": "stream",
     "text": [
      "Epoch [65/50], Train Loss: 40.4132, Validation Loss: 53.5172\n"
     ]
    },
    {
     "name": "stderr",
     "output_type": "stream",
     "text": [
      " 66%|████████████████████████████████████████████████▏                        | 66/100 [05:50<03:00,  5.30s/it]"
     ]
    },
    {
     "name": "stdout",
     "output_type": "stream",
     "text": [
      "Epoch [66/50], Train Loss: 40.1747, Validation Loss: 52.5851\n"
     ]
    },
    {
     "name": "stderr",
     "output_type": "stream",
     "text": [
      " 67%|████████████████████████████████████████████████▉                        | 67/100 [05:55<02:55,  5.30s/it]"
     ]
    },
    {
     "name": "stdout",
     "output_type": "stream",
     "text": [
      "Epoch [67/50], Train Loss: 39.9589, Validation Loss: 53.8702\n"
     ]
    },
    {
     "name": "stderr",
     "output_type": "stream",
     "text": [
      " 68%|█████████████████████████████████████████████████▋                       | 68/100 [06:01<02:49,  5.30s/it]"
     ]
    },
    {
     "name": "stdout",
     "output_type": "stream",
     "text": [
      "Epoch [68/50], Train Loss: 39.6946, Validation Loss: 54.7062\n"
     ]
    },
    {
     "name": "stderr",
     "output_type": "stream",
     "text": [
      " 69%|██████████████████████████████████████████████████▎                      | 69/100 [06:06<02:44,  5.30s/it]"
     ]
    },
    {
     "name": "stdout",
     "output_type": "stream",
     "text": [
      "Epoch [69/50], Train Loss: 39.4401, Validation Loss: 54.6899\n"
     ]
    },
    {
     "name": "stderr",
     "output_type": "stream",
     "text": [
      " 70%|███████████████████████████████████████████████████                      | 70/100 [06:11<02:39,  5.30s/it]"
     ]
    },
    {
     "name": "stdout",
     "output_type": "stream",
     "text": [
      "Epoch [70/50], Train Loss: 38.8907, Validation Loss: 55.7294\n"
     ]
    },
    {
     "name": "stderr",
     "output_type": "stream",
     "text": [
      " 71%|███████████████████████████████████████████████████▊                     | 71/100 [06:17<02:33,  5.30s/it]"
     ]
    },
    {
     "name": "stdout",
     "output_type": "stream",
     "text": [
      "Epoch [71/50], Train Loss: 38.5818, Validation Loss: 54.5274\n"
     ]
    },
    {
     "name": "stderr",
     "output_type": "stream",
     "text": [
      " 72%|████████████████████████████████████████████████████▌                    | 72/100 [06:22<02:28,  5.30s/it]"
     ]
    },
    {
     "name": "stdout",
     "output_type": "stream",
     "text": [
      "Epoch [72/50], Train Loss: 38.3613, Validation Loss: 54.7123\n"
     ]
    },
    {
     "name": "stderr",
     "output_type": "stream",
     "text": [
      " 73%|█████████████████████████████████████████████████████▎                   | 73/100 [06:27<02:23,  5.30s/it]"
     ]
    },
    {
     "name": "stdout",
     "output_type": "stream",
     "text": [
      "Epoch [73/50], Train Loss: 38.0448, Validation Loss: 54.9175\n"
     ]
    },
    {
     "name": "stderr",
     "output_type": "stream",
     "text": [
      " 74%|██████████████████████████████████████████████████████                   | 74/100 [06:32<02:17,  5.30s/it]"
     ]
    },
    {
     "name": "stdout",
     "output_type": "stream",
     "text": [
      "Epoch [74/50], Train Loss: 37.8858, Validation Loss: 54.9369\n"
     ]
    },
    {
     "name": "stderr",
     "output_type": "stream",
     "text": [
      " 75%|██████████████████████████████████████████████████████▊                  | 75/100 [06:38<02:12,  5.30s/it]"
     ]
    },
    {
     "name": "stdout",
     "output_type": "stream",
     "text": [
      "Epoch [75/50], Train Loss: 37.5540, Validation Loss: 56.4359\n"
     ]
    },
    {
     "name": "stderr",
     "output_type": "stream",
     "text": [
      " 76%|███████████████████████████████████████████████████████▍                 | 76/100 [06:43<02:07,  5.30s/it]"
     ]
    },
    {
     "name": "stdout",
     "output_type": "stream",
     "text": [
      "Epoch [76/50], Train Loss: 37.1287, Validation Loss: 55.8150\n"
     ]
    },
    {
     "name": "stderr",
     "output_type": "stream",
     "text": [
      " 77%|████████████████████████████████████████████████████████▏                | 77/100 [06:48<02:01,  5.30s/it]"
     ]
    },
    {
     "name": "stdout",
     "output_type": "stream",
     "text": [
      "Epoch [77/50], Train Loss: 37.0422, Validation Loss: 55.0776\n"
     ]
    },
    {
     "name": "stderr",
     "output_type": "stream",
     "text": [
      " 78%|████████████████████████████████████████████████████████▉                | 78/100 [06:54<01:56,  5.30s/it]"
     ]
    },
    {
     "name": "stdout",
     "output_type": "stream",
     "text": [
      "Epoch [78/50], Train Loss: 36.5126, Validation Loss: 57.9383\n"
     ]
    },
    {
     "name": "stderr",
     "output_type": "stream",
     "text": [
      " 79%|█████████████████████████████████████████████████████████▋               | 79/100 [06:59<01:51,  5.30s/it]"
     ]
    },
    {
     "name": "stdout",
     "output_type": "stream",
     "text": [
      "Epoch [79/50], Train Loss: 36.1090, Validation Loss: 57.8517\n"
     ]
    },
    {
     "name": "stderr",
     "output_type": "stream",
     "text": [
      " 80%|██████████████████████████████████████████████████████████▍              | 80/100 [07:04<01:46,  5.30s/it]"
     ]
    },
    {
     "name": "stdout",
     "output_type": "stream",
     "text": [
      "Epoch [80/50], Train Loss: 35.8122, Validation Loss: 56.7458\n"
     ]
    },
    {
     "name": "stderr",
     "output_type": "stream",
     "text": [
      " 81%|███████████████████████████████████████████████████████████▏             | 81/100 [07:10<01:40,  5.30s/it]"
     ]
    },
    {
     "name": "stdout",
     "output_type": "stream",
     "text": [
      "Epoch [81/50], Train Loss: 36.1908, Validation Loss: 53.4943\n"
     ]
    },
    {
     "name": "stderr",
     "output_type": "stream",
     "text": [
      " 82%|███████████████████████████████████████████████████████████▊             | 82/100 [07:15<01:35,  5.30s/it]"
     ]
    },
    {
     "name": "stdout",
     "output_type": "stream",
     "text": [
      "Epoch [82/50], Train Loss: 35.4988, Validation Loss: 56.3075\n"
     ]
    },
    {
     "name": "stderr",
     "output_type": "stream",
     "text": [
      " 83%|████████████████████████████████████████████████████████████▌            | 83/100 [07:20<01:30,  5.30s/it]"
     ]
    },
    {
     "name": "stdout",
     "output_type": "stream",
     "text": [
      "Epoch [83/50], Train Loss: 34.5995, Validation Loss: 54.5532\n"
     ]
    },
    {
     "name": "stderr",
     "output_type": "stream",
     "text": [
      " 84%|█████████████████████████████████████████████████████████████▎           | 84/100 [07:25<01:24,  5.30s/it]"
     ]
    },
    {
     "name": "stdout",
     "output_type": "stream",
     "text": [
      "Epoch [84/50], Train Loss: 34.0340, Validation Loss: 57.2614\n"
     ]
    },
    {
     "name": "stderr",
     "output_type": "stream",
     "text": [
      " 85%|██████████████████████████████████████████████████████████████           | 85/100 [07:31<01:19,  5.31s/it]"
     ]
    },
    {
     "name": "stdout",
     "output_type": "stream",
     "text": [
      "Epoch [85/50], Train Loss: 33.5460, Validation Loss: 58.9304\n"
     ]
    },
    {
     "name": "stderr",
     "output_type": "stream",
     "text": [
      " 86%|██████████████████████████████████████████████████████████████▊          | 86/100 [07:36<01:14,  5.30s/it]"
     ]
    },
    {
     "name": "stdout",
     "output_type": "stream",
     "text": [
      "Epoch [86/50], Train Loss: 33.0206, Validation Loss: 60.5132\n"
     ]
    },
    {
     "name": "stderr",
     "output_type": "stream",
     "text": [
      " 87%|███████████████████████████████████████████████████████████████▌         | 87/100 [07:41<01:08,  5.31s/it]"
     ]
    },
    {
     "name": "stdout",
     "output_type": "stream",
     "text": [
      "Epoch [87/50], Train Loss: 33.0200, Validation Loss: 62.5822\n"
     ]
    },
    {
     "name": "stderr",
     "output_type": "stream",
     "text": [
      " 88%|████████████████████████████████████████████████████████████████▏        | 88/100 [07:47<01:03,  5.31s/it]"
     ]
    },
    {
     "name": "stdout",
     "output_type": "stream",
     "text": [
      "Epoch [88/50], Train Loss: 33.1217, Validation Loss: 57.3514\n"
     ]
    },
    {
     "name": "stderr",
     "output_type": "stream",
     "text": [
      " 89%|████████████████████████████████████████████████████████████████▉        | 89/100 [07:52<00:58,  5.31s/it]"
     ]
    },
    {
     "name": "stdout",
     "output_type": "stream",
     "text": [
      "Epoch [89/50], Train Loss: 32.0582, Validation Loss: 58.8295\n"
     ]
    },
    {
     "name": "stderr",
     "output_type": "stream",
     "text": [
      " 90%|█████████████████████████████████████████████████████████████████▋       | 90/100 [07:57<00:53,  5.31s/it]"
     ]
    },
    {
     "name": "stdout",
     "output_type": "stream",
     "text": [
      "Epoch [90/50], Train Loss: 31.0540, Validation Loss: 58.2070\n"
     ]
    },
    {
     "name": "stderr",
     "output_type": "stream",
     "text": [
      " 91%|██████████████████████████████████████████████████████████████████▍      | 91/100 [08:03<00:47,  5.31s/it]"
     ]
    },
    {
     "name": "stdout",
     "output_type": "stream",
     "text": [
      "Epoch [91/50], Train Loss: 30.2153, Validation Loss: 60.3663\n"
     ]
    },
    {
     "name": "stderr",
     "output_type": "stream",
     "text": [
      " 92%|███████████████████████████████████████████████████████████████████▏     | 92/100 [08:08<00:42,  5.31s/it]"
     ]
    },
    {
     "name": "stdout",
     "output_type": "stream",
     "text": [
      "Epoch [92/50], Train Loss: 29.8368, Validation Loss: 60.3182\n"
     ]
    },
    {
     "name": "stderr",
     "output_type": "stream",
     "text": [
      " 93%|███████████████████████████████████████████████████████████████████▉     | 93/100 [08:13<00:37,  5.31s/it]"
     ]
    },
    {
     "name": "stdout",
     "output_type": "stream",
     "text": [
      "Epoch [93/50], Train Loss: 29.2674, Validation Loss: 62.5285\n"
     ]
    },
    {
     "name": "stderr",
     "output_type": "stream",
     "text": [
      " 94%|████████████████████████████████████████████████████████████████████▌    | 94/100 [08:19<00:31,  5.32s/it]"
     ]
    },
    {
     "name": "stdout",
     "output_type": "stream",
     "text": [
      "Epoch [94/50], Train Loss: 28.9060, Validation Loss: 62.5416\n"
     ]
    },
    {
     "name": "stderr",
     "output_type": "stream",
     "text": [
      " 95%|█████████████████████████████████████████████████████████████████████▎   | 95/100 [08:24<00:26,  5.32s/it]"
     ]
    },
    {
     "name": "stdout",
     "output_type": "stream",
     "text": [
      "Epoch [95/50], Train Loss: 28.8823, Validation Loss: 59.8212\n"
     ]
    },
    {
     "name": "stderr",
     "output_type": "stream",
     "text": [
      " 96%|██████████████████████████████████████████████████████████████████████   | 96/100 [08:29<00:21,  5.32s/it]"
     ]
    },
    {
     "name": "stdout",
     "output_type": "stream",
     "text": [
      "Epoch [96/50], Train Loss: 27.9901, Validation Loss: 61.1952\n"
     ]
    },
    {
     "name": "stderr",
     "output_type": "stream",
     "text": [
      " 97%|██████████████████████████████████████████████████████████████████████▊  | 97/100 [08:35<00:15,  5.31s/it]"
     ]
    },
    {
     "name": "stdout",
     "output_type": "stream",
     "text": [
      "Epoch [97/50], Train Loss: 27.3888, Validation Loss: 63.1148\n"
     ]
    },
    {
     "name": "stderr",
     "output_type": "stream",
     "text": [
      " 98%|███████████████████████████████████████████████████████████████████████▌ | 98/100 [08:40<00:10,  5.31s/it]"
     ]
    },
    {
     "name": "stdout",
     "output_type": "stream",
     "text": [
      "Epoch [98/50], Train Loss: 26.4564, Validation Loss: 62.4359\n"
     ]
    },
    {
     "name": "stderr",
     "output_type": "stream",
     "text": [
      " 99%|████████████████████████████████████████████████████████████████████████▎| 99/100 [08:45<00:05,  5.31s/it]"
     ]
    },
    {
     "name": "stdout",
     "output_type": "stream",
     "text": [
      "Epoch [99/50], Train Loss: 25.6985, Validation Loss: 64.9135\n"
     ]
    },
    {
     "name": "stderr",
     "output_type": "stream",
     "text": [
      "100%|████████████████████████████████████████████████████████████████████████| 100/100 [08:50<00:00,  5.31s/it]"
     ]
    },
    {
     "name": "stdout",
     "output_type": "stream",
     "text": [
      "Epoch [100/50], Train Loss: 25.1961, Validation Loss: 65.2672\n",
      "Training finished.\n",
      "52.585062363568476\n"
     ]
    },
    {
     "name": "stderr",
     "output_type": "stream",
     "text": [
      "\n"
     ]
    },
    {
     "data": {
      "text/plain": [
       "<All keys matched successfully>"
      ]
     },
     "execution_count": 8,
     "metadata": {},
     "output_type": "execute_result"
    }
   ],
   "source": [
    "import torch\n",
    "import torch.nn as nn\n",
    "import torch.nn.functional as F\n",
    "import torch.optim as optim\n",
    "from torch.utils.data import DataLoader, Dataset\n",
    "\n",
    "from tqdm import tqdm\n",
    "import numpy as np\n",
    "import pandas as pd\n",
    "import random\n",
    "import matplotlib.pyplot as plt\n",
    "import seaborn as sns\n",
    "sns.set_style('dark')\n",
    "\n",
    "def expand_data(dataframe, name):\n",
    "    '''inputs: original dataframe with values for ONE station'''\n",
    "\n",
    "    dataframe_copy = dataframe.copy()\n",
    "\n",
    "    # create new dataframe with index as every hour\n",
    "    dataframe_copy['Time'] = pd.to_datetime(dataframe_copy['charging_hour'], format='%Y-%m-%d %H:%M:%S+00:00').dt.tz_localize(None)\n",
    "\n",
    "    start_index = dataframe_copy.iloc[0, -1].date() #starting point is the day of the first index\n",
    "    end_index = dataframe_copy.iloc[-1, -1].date() # ending pojnt is the day of the last index\n",
    "    indices = pd.date_range(start_index, end_index, freq='1H')\n",
    "\n",
    "    dataframe_copy.set_index('Time', inplace=True)\n",
    "\n",
    "    print(dataframe.describe())\n",
    "    #dataframe.describe().to_csv('Opis podataka Osijek.csv', sep=';')\n",
    "\n",
    "    # new_dataframe is a dataframe that is expanded with zero values\n",
    "    new_dataframe = pd.DataFrame(index=indices, data=dataframe_copy)\n",
    "\n",
    "    # important features (charging_minutes, consumption, utilization) are filled with zeros\n",
    "    # other values (that are the same for each time step) are copied - like connector_count and location_accesstype\n",
    "    new_dataframe['location_accesstype_title'] = new_dataframe['location_accesstype_title'].fillna(dataframe_copy['location_accesstype_title'][0])\n",
    "    new_dataframe['charging_hour'] = new_dataframe['charging_hour'].fillna(np.nan)\n",
    "    # charging_hour column is filled with Nan values because it will be later dropped and is not necessary\n",
    "    new_dataframe['utilization'] = new_dataframe['utilization'].fillna(0.0)\n",
    "    new_dataframe['connector_count'] = new_dataframe['connector_count'].fillna(dataframe_copy['connector_count'][0])\n",
    "    new_dataframe['congested_connectors'] = new_dataframe['congested_connectors'].fillna(0.0)\n",
    "    new_dataframe['energy_consumption'] = new_dataframe['energy_consumption'].fillna(0.0)\n",
    "    new_dataframe['charging_minutes'] = new_dataframe['charging_minutes'].fillna(0.0)\n",
    "\n",
    "    # new_dataframe is then save to the .csv file\n",
    "    # new_dataframe.to_csv(r'C:\\Users\\ZVNE\\OneDrive - fer.hr\\projekti\\E-Mobility Grčka\\station data expanded ' + str(name) + '.csv', sep=';')\n",
    "\n",
    "    # expanded dataframe is returned\n",
    "    return new_dataframe\n",
    "\n",
    "class CustomDataset(Dataset):\n",
    "    def __init__(self, seq_len=5, max_len=1000, seq = []):\n",
    "        super(CustomDataset).__init__()\n",
    "        self.datalist = seq\n",
    "        self.data, self.targets = self.timeseries(self.datalist, seq_len)\n",
    "\n",
    "    def __len__(self):\n",
    "        return len(self.data)\n",
    "\n",
    "    def timeseries(self, data, window):\n",
    "        temp = []\n",
    "        targ = data[window:]\n",
    "        for i in range(len(data)-window):\n",
    "            temp.append(data[i:i+window])\n",
    "\n",
    "        return np.array(temp), targ\n",
    "\n",
    "    def __getitem__(self, index):\n",
    "        x = torch.tensor(self.data[index]).type(torch.Tensor)\n",
    "        y = torch.tensor(self.targets[index]).type(torch.Tensor)\n",
    "        return x,y\n",
    "\n",
    "\n",
    "class RNN(nn.Module):\n",
    "    def __init__(self, input_size, hidden_size, num_layers):\n",
    "        super().__init__()\n",
    "        self.hidden_size = hidden_size\n",
    "        self.num_layers = num_layers\n",
    "\n",
    "        self.lstm = nn.LSTM(input_size,hidden_size,num_layers,batch_first=True)\n",
    "        self.fc = nn.Linear(hidden_size, 1)\n",
    "\n",
    "    def forward(self, x):\n",
    "        # hidden states not defnined hence the value of h0,c0 == (0,0)\n",
    "        out, (hn, cn) = self.lstm(x)\n",
    "\n",
    "        # as the diagram suggest to take the last output in many to one\n",
    "        # print(out.shape)\n",
    "        # print(hn.shape)\n",
    "        # all batch, last column of seq, all hidden values\n",
    "        out = out[:, -1, :]\n",
    "        out = self.fc(out)\n",
    "\n",
    "        return out\n",
    "\n",
    "\n",
    "\n",
    "#df = pd.read_csv('station_data_hour_Opatija.csv')\n",
    "\n",
    "\n",
    "import psycopg2\n",
    "\n",
    "# Connect to the PostgreSQL database\n",
    "conn = psycopg2.connect(\n",
    "    host=\"34.171.207.247\",\n",
    "    database=\"localai\",\n",
    "    user=\"postgres\",\n",
    "    password=\"pglocalai\"\n",
    ")\n",
    "\n",
    "# Create a cursor object to interact with the database\n",
    "cursor = conn.cursor()\n",
    "\n",
    "# Execute a SELECT query to fetch data from a table\n",
    "query = \"SELECT * FROM ht_cpn_station_data_hour WHERE location_id = 270\"\n",
    "cursor.execute(query)\n",
    "\n",
    "# Fetch all rows from the result set\n",
    "rows = cursor.fetchall()\n",
    "\n",
    "# Get the column names from the cursor description\n",
    "columns = [desc[0] for desc in cursor.description]\n",
    "\n",
    "# Create a Pandas DataFrame with the fetched data and column names\n",
    "df = pd.DataFrame(rows, columns=columns)\n",
    "\n",
    "# Close the cursor and connection\n",
    "cursor.close()\n",
    "conn.close()\n",
    "\n",
    "\n",
    "\n",
    "\n",
    "expanded_data = expand_data(df, \"name1\")\n",
    "data = expanded_data['utilization']\n",
    "data_np = data.to_numpy()\n",
    "\n",
    "train_size = int(len(data_np) * 0.8)\n",
    "val_size = int(len(data_np) * 0.1)\n",
    "test_size = len(data_np) - train_size - val_size\n",
    "\n",
    "train = data_np[:train_size]\n",
    "val = data_np[train_size:train_size+val_size]\n",
    "test = data_np[train_size+ val_size:]\n",
    "\n",
    "train_dataset = CustomDataset(seq_len=64, max_len=len(train), seq = train)\n",
    "val_dataset = CustomDataset(seq_len=64, max_len=len(val), seq = val)\n",
    "test_dataset = CustomDataset(seq_len=64, max_len=len(test), seq = test)\n",
    "\n",
    "\n",
    "train_dataloader = DataLoader(train_dataset, batch_size=64, shuffle=False)\n",
    "val_dataloader = DataLoader(val_dataset, batch_size=64, shuffle=False)\n",
    "test_dataloader = DataLoader(test_dataset, batch_size=64, shuffle=False)\n",
    "#collate_fn=custom_collector\n",
    "\n",
    "device = torch.device(\"cuda\" if torch.cuda.is_available() else \"cpu\")\n",
    "print(device)\n",
    "model = RNN(input_size=1, hidden_size=256, num_layers=4).to(device)\n",
    "\n",
    "loss_function = nn.MSELoss()\n",
    "learning_rate = 0.001\n",
    "optimizer = optim.Adam(model.parameters(), lr=learning_rate)\n",
    "\n",
    "\n",
    "# Placeholder for the best validation accuracy\n",
    "best_val_loss = float('inf')  # Initialize with a large value\n",
    "\n",
    "\n",
    "for e in tqdm(range(100)):\n",
    "    model.train()\n",
    "    total_loss = 0\n",
    "    for x,y in train_dataloader:\n",
    "        optimizer.zero_grad()\n",
    "\n",
    "        x, y = x.to(device), y.to(device)\n",
    "        x = torch.unsqueeze(x, 0).permute(1,2,0)\n",
    "        # forward\n",
    "        predictions = model(x)\n",
    "\n",
    "        loss = loss_function(predictions.view(-1), y.to(device))\n",
    "\n",
    "        # backward\n",
    "        loss.backward()\n",
    "\n",
    "        # optimization\n",
    "        optimizer.step()\n",
    "\n",
    "        total_loss += loss.item()\n",
    "\n",
    "    average_train_loss = total_loss / len(train_dataloader)\n",
    "\n",
    "\n",
    "    # Validation\n",
    "    model.eval()\n",
    "    val_loss = 0\n",
    "    predictions_list = []\n",
    "    with torch.no_grad():\n",
    "        # Initialize validation hidden states and cell states with the final states of the training set\n",
    "        #h0_val = h0.detach().clone()\n",
    "        #c0_val = c0.detach().clone()\n",
    "\n",
    "        for x_val,y_val in val_dataloader:\n",
    "            x_val, y_val = x_val.to(device), y_val.to(device)\n",
    "\n",
    "            # Forward pass with hidden states\n",
    "            x_val = torch.unsqueeze(x_val, 0).permute(1,2,0)\n",
    "            predictions = model(x_val)\n",
    "            #print(predictions.view(-1))\n",
    "            #print(y_val)\n",
    "            loss = loss_function(predictions.view(-1), y_val)\n",
    "            val_loss += loss.item()\n",
    "\n",
    "            # store predictions\n",
    "            predictions_list.extend(predictions.cpu().numpy())\n",
    "\n",
    "    average_val_loss = val_loss / len(val_dataloader)\n",
    "    # keep the model with the best performance in the validation set\n",
    "    if average_val_loss < best_val_loss:\n",
    "        best_val_loss = average_val_loss\n",
    "        best_model_state = model.state_dict()\n",
    "        best_predictions = predictions_list\n",
    "\n",
    "    print(f'Epoch [{e+1}/{50}], Train Loss: {average_train_loss:.4f}, Validation Loss: {average_val_loss:.4f}')\n",
    "\n",
    "print('Training finished.')\n",
    "print(best_val_loss)\n",
    "\n",
    "model.load_state_dict(best_model_state)\n",
    "\n",
    "\n"
   ]
  },
  {
   "cell_type": "code",
   "execution_count": 9,
   "id": "ca288cf4-9409-453a-874f-dcb28ef102aa",
   "metadata": {},
   "outputs": [
    {
     "name": "stdout",
     "output_type": "stream",
     "text": [
      "torch.Size([64, 1])\n"
     ]
    },
    {
     "data": {
      "image/png": "[encoded data removed]",
      "text/plain": [
       "<Figure size 640x480 with 1 Axes>"
      ]
     },
     "metadata": {},
     "output_type": "display_data"
    }
   ],
   "source": [
    "y = []\n",
    "\n",
    "with torch.no_grad():\n",
    "  for x_test,y_test in test_dataloader:\n",
    "      #optimizer.zero_grad()\n",
    "\n",
    "    x_test, y_test = x_test.to(device), y_test.to(device)\n",
    "    x_test = torch.unsqueeze(x_test, 0).permute(1,2,0)\n",
    "    # forward\n",
    "    predictions = model(x_test)\n",
    "    break\n",
    "\n",
    "print(predictions.shape)\n",
    "\n",
    "plt.plot(np.array(y_test.cpu()), label='Actual Utilization')\n",
    "plt.plot(np.array(predictions.cpu()), label='Predicted Utilization')\n",
    "plt.xlabel('hour')\n",
    "plt.ylabel('Utilization')\n",
    "plt.legend()\n",
    "plt.show()"
   ]
  },
  {
   "cell_type": "code",
   "execution_count": 7,
   "id": "8cbe75da-d7c5-4e02-8247-cf10459b7e9f",
   "metadata": {},
   "outputs": [
    {
     "data": {
      "text/plain": [
       "location_id\n",
       "138883     19165\n",
       "270        16683\n",
       "104028     16245\n",
       "138889     14072\n",
       "234        13170\n",
       "           ...  \n",
       "133238         2\n",
       "163380         2\n",
       "174228         1\n",
       "1559690        1\n",
       "1629755        1\n",
       "Name: count, Length: 270, dtype: int64"
      ]
     },
     "execution_count": 7,
     "metadata": {},
     "output_type": "execute_result"
    }
   ],
   "source": [
    "df['location_id'].value_counts()"
   ]
  },
  {
   "cell_type": "code",
   "execution_count": 10,
   "id": "757466e1-b9a6-4bd6-838e-0f20920da603",
   "metadata": {},
   "outputs": [
    {
     "name": "stdout",
     "output_type": "stream",
     "text": [
      "       location_id   utilization  connector_count  congested_connectors  \\\n",
      "count      16683.0  16683.000000          16683.0          16683.000000   \n",
      "mean         270.0     19.951410              8.0              1.148175   \n",
      "std            0.0     10.959625              0.0              0.882489   \n",
      "min          270.0      0.000000              8.0              0.000000   \n",
      "25%          270.0     12.500000              8.0              1.000000   \n",
      "50%          270.0     17.291667              8.0              1.000000   \n",
      "75%          270.0     25.000000              8.0              2.000000   \n",
      "max          270.0     62.500000              8.0              5.000000   \n",
      "\n",
      "       charging_minutes  \n",
      "count      16683.000000  \n",
      "mean          95.766769  \n",
      "std           52.606199  \n",
      "min            0.000000  \n",
      "25%           60.000000  \n",
      "50%           83.000000  \n",
      "75%          120.000000  \n",
      "max          300.000000  \n"
     ]
    }
   ],
   "source": [
    "import torch\n",
    "import torch.nn as nn\n",
    "import torch.nn.functional as F\n",
    "import torch.optim as optim\n",
    "from torch.utils.data import DataLoader, Dataset\n",
    "\n",
    "from tqdm import tqdm\n",
    "import numpy as np\n",
    "import pandas as pd\n",
    "import random\n",
    "import matplotlib.pyplot as plt\n",
    "import seaborn as sns\n",
    "sns.set_style('dark')\n",
    "\n",
    "def expand_data(dataframe, name):\n",
    "    '''inputs: original dataframe with values for ONE station'''\n",
    "\n",
    "    dataframe_copy = dataframe.copy()\n",
    "\n",
    "    # create new dataframe with index as every hour\n",
    "    dataframe_copy['Time'] = pd.to_datetime(dataframe_copy['charging_hour'], format='%Y-%m-%d %H:%M:%S+00:00').dt.tz_localize(None)\n",
    "\n",
    "    start_index = dataframe_copy.iloc[0, -1].date() #starting point is the day of the first index\n",
    "    end_index = dataframe_copy.iloc[-1, -1].date() # ending pojnt is the day of the last index\n",
    "    indices = pd.date_range(start_index, end_index, freq='1H')\n",
    "\n",
    "    dataframe_copy.set_index('Time', inplace=True)\n",
    "\n",
    "    print(dataframe.describe())\n",
    "    #dataframe.describe().to_csv('Opis podataka Osijek.csv', sep=';')\n",
    "\n",
    "    # new_dataframe is a dataframe that is expanded with zero values\n",
    "    new_dataframe = pd.DataFrame(index=indices, data=dataframe_copy)\n",
    "\n",
    "    # important features (charging_minutes, consumption, utilization) are filled with zeros\n",
    "    # other values (that are the same for each time step) are copied - like connector_count and location_accesstype\n",
    "    new_dataframe['location_accesstype_title'] = new_dataframe['location_accesstype_title'].fillna(dataframe_copy['location_accesstype_title'][0])\n",
    "    new_dataframe['charging_hour'] = new_dataframe['charging_hour'].fillna(np.nan)\n",
    "    # charging_hour column is filled with Nan values because it will be later dropped and is not necessary\n",
    "    new_dataframe['utilization'] = new_dataframe['utilization'].fillna(0.0)\n",
    "    new_dataframe['connector_count'] = new_dataframe['connector_count'].fillna(dataframe_copy['connector_count'][0])\n",
    "    new_dataframe['congested_connectors'] = new_dataframe['congested_connectors'].fillna(0.0)\n",
    "    new_dataframe['energy_consumption'] = new_dataframe['energy_consumption'].fillna(0.0)\n",
    "    new_dataframe['charging_minutes'] = new_dataframe['charging_minutes'].fillna(0.0)\n",
    "\n",
    "    # new_dataframe is then save to the .csv file\n",
    "    # new_dataframe.to_csv(r'C:\\Users\\ZVNE\\OneDrive - fer.hr\\projekti\\E-Mobility Grčka\\station data expanded ' + str(name) + '.csv', sep=';')\n",
    "\n",
    "    # expanded dataframe is returned\n",
    "    return new_dataframe\n",
    "\n",
    "class CustomDataset(Dataset):\n",
    "    def __init__(self, seq_len=5, max_len=1000, seq = []):\n",
    "        super(CustomDataset).__init__()\n",
    "        self.datalist = seq\n",
    "        self.data, self.targets = self.timeseries(self.datalist, seq_len)\n",
    "\n",
    "    def __len__(self):\n",
    "        return len(self.data)\n",
    "\n",
    "    def timeseries(self, data, window):\n",
    "        temp = []\n",
    "        targ = data[window:]\n",
    "        for i in range(len(data)-window):\n",
    "            temp.append(data[i:i+window])\n",
    "\n",
    "        return np.array(temp), targ\n",
    "\n",
    "    def __getitem__(self, index):\n",
    "        x = torch.tensor(self.data[index]).type(torch.Tensor)\n",
    "        y = torch.tensor(self.targets[index]).type(torch.Tensor)\n",
    "        return x,y\n",
    "\n",
    "\n",
    "class RNN(nn.Module):\n",
    "    def __init__(self, input_size, hidden_size, num_layers):\n",
    "        super().__init__()\n",
    "        self.hidden_size = hidden_size\n",
    "        self.num_layers = num_layers\n",
    "\n",
    "        self.lstm = nn.LSTM(input_size,hidden_size,num_layers,batch_first=True)\n",
    "        self.fc = nn.Linear(hidden_size, 1)\n",
    "\n",
    "    def forward(self, x):\n",
    "        # hidden states not defnined hence the value of h0,c0 == (0,0)\n",
    "        out, (hn, cn) = self.lstm(x)\n",
    "\n",
    "        # as the diagram suggest to take the last output in many to one\n",
    "        # print(out.shape)\n",
    "        # print(hn.shape)\n",
    "        # all batch, last column of seq, all hidden values\n",
    "        out = out[:, -1, :]\n",
    "        out = self.fc(out)\n",
    "\n",
    "        return out\n",
    "\n",
    "\n",
    "\n",
    "#df = pd.read_csv('station_data_hour_Opatija.csv')\n",
    "\n",
    "\n",
    "import psycopg2\n",
    "\n",
    "# Connect to the PostgreSQL database\n",
    "conn = psycopg2.connect(\n",
    "    host=\"34.171.207.247\",\n",
    "    database=\"localai\",\n",
    "    user=\"postgres\",\n",
    "    password=\"pglocalai\"\n",
    ")\n",
    "\n",
    "# Create a cursor object to interact with the database\n",
    "cursor = conn.cursor()\n",
    "\n",
    "# Execute a SELECT query to fetch data from a table\n",
    "query = \"SELECT * FROM ht_cpn_station_data_hour WHERE location_id = 270\"\n",
    "cursor.execute(query)\n",
    "\n",
    "# Fetch all rows from the result set\n",
    "rows = cursor.fetchall()\n",
    "\n",
    "# Get the column names from the cursor description\n",
    "columns = [desc[0] for desc in cursor.description]\n",
    "\n",
    "# Create a Pandas DataFrame with the fetched data and column names\n",
    "df = pd.DataFrame(rows, columns=columns)\n",
    "\n",
    "# Close the cursor and connection\n",
    "cursor.close()\n",
    "conn.close()\n",
    "\n",
    "\n",
    "\n",
    "\n",
    "expanded_data = expand_data(df, \"name1\")\n",
    "data = expanded_data['utilization']\n",
    "data_np = data.to_numpy()\n",
    "\n",
    "train_size = int(len(data_np) * 0.8)\n",
    "val_size = int(len(data_np) * 0.1)\n",
    "test_size = len(data_np) - train_size - val_size\n",
    "\n",
    "train = data_np[:train_size]\n",
    "val = data_np[train_size:train_size+val_size]\n",
    "test = data_np[train_size+ val_size:]\n",
    "\n",
    "train_dataset = CustomDataset(seq_len=64, max_len=len(train), seq = train)\n",
    "val_dataset = CustomDataset(seq_len=64, max_len=len(val), seq = val)\n",
    "test_dataset = CustomDataset(seq_len=64, max_len=len(test), seq = test)\n",
    "\n",
    "\n",
    "train_dataloader = DataLoader(train_dataset, batch_size=64, shuffle=False)\n",
    "val_dataloader = DataLoader(val_dataset, batch_size=64, shuffle=False)\n",
    "test_dataloader = DataLoader(test_dataset, batch_size=64, shuffle=False)"
   ]
  },
  {
   "cell_type": "code",
   "execution_count": 21,
   "id": "ce6994c8-f5ab-4a3b-8dff-d874d7e701be",
   "metadata": {},
   "outputs": [
    {
     "data": {
      "text/plain": [
       "(tensor([12.5000, 12.5000, 12.5000, 12.5000, 12.5000, 12.5000, 12.5000, 12.5000,\n",
       "         12.5000, 11.2500,  0.0000,  0.0000,  0.0000,  0.0000,  0.0000,  0.0000,\n",
       "          0.0000,  0.0000,  0.0000,  0.0000,  8.1250, 25.0000, 25.0000, 25.0000,\n",
       "         16.0417, 12.5000, 12.5000, 12.5000, 12.5000, 12.5000, 12.5000, 12.5000,\n",
       "         12.5000,  6.0417,  0.0000,  0.0000,  0.0000,  0.0000,  0.0000,  0.0000,\n",
       "          0.0000,  0.0000,  0.0000,  0.0000,  0.0000,  0.0000,  0.0000,  0.0000,\n",
       "          0.0000,  0.0000,  0.0000,  0.0000,  0.0000,  0.0000,  0.0000,  0.0000,\n",
       "          0.0000,  0.0000,  0.0000,  0.0000,  0.0000,  0.0000,  0.0000,  0.6250]),\n",
       " tensor(18.1250))"
      ]
     },
     "execution_count": 21,
     "metadata": {},
     "output_type": "execute_result"
    }
   ],
   "source": [
    "train_dataset.__getitem__(15)"
   ]
  },
  {
   "cell_type": "code",
   "execution_count": null,
   "id": "dd9cb400-9912-4da9-834a-ebeb11f5b829",
   "metadata": {},
   "outputs": [],
   "source": []
  }
 ],
 "metadata": {
  "kernelspec": {
   "display_name": "Python 3 (ipykernel)",
   "language": "python",
   "name": "python3"
  },
  "language_info": {
   "codemirror_mode": {
    "name": "ipython",
    "version": 3
   },
   "file_extension": ".py",
   "mimetype": "text/x-python",
   "name": "python",
   "nbconvert_exporter": "python",
   "pygments_lexer": "ipython3",
   "version": "3.10.12"
  }
 },
 "nbformat": 4,
 "nbformat_minor": 5
}
