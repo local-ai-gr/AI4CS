{
 "cells": [
  {
   "cell_type": "code",
   "execution_count": 1,
   "metadata": {},
   "outputs": [
    {
     "data": {
      "text/plain": [
       "True"
      ]
     },
     "execution_count": 1,
     "metadata": {},
     "output_type": "execute_result"
    }
   ],
   "source": [
    "import torch\n",
    "torch.__version__\n",
    "torch.cuda.is_available()"
   ]
  },
  {
   "cell_type": "code",
   "execution_count": 2,
   "metadata": {
    "executionInfo": {
     "elapsed": 270,
     "status": "ok",
     "timestamp": 1698333742247,
     "user": {
      "displayName": "George Vlahodimitropoulos",
      "userId": "07261027805013930068"
     },
     "user_tz": 240
    },
    "id": "xJCqEAMMke71"
   },
   "outputs": [],
   "source": [
    "# importing libraries\n",
    "import pandas as pd\n",
    "import matplotlib.pyplot as plt\n",
    "import numpy as np\n",
    "from datetime import datetime\n",
    "\n",
    "import torch\n",
    "from torch.utils.data import Dataset, DataLoader\n",
    "import torch.nn as nn\n",
    "import torch.optim as optim\n",
    "\n",
    "from statsmodels.tsa.arima.model import ARIMA\n",
    "\n",
    "from sklearn.metrics import mean_squared_error\n",
    "from torch.utils.data import DataLoader\n",
    "\n",
    "import psycopg2\n",
    "from torch.utils.data import Dataset\n",
    "\n",
    "class TimeSeriesDataset(Dataset):\n",
    "    def __init__(self, X, y):\n",
    "        self.X = X\n",
    "        self.y = y\n",
    "\n",
    "    def __len__(self):\n",
    "        return len(self.X)\n",
    "\n",
    "    def __getitem__(self, i):\n",
    "        return self.X[i], self.y[i]\n",
    "\n",
    "class LSTMModel(nn.Module):\n",
    "    def __init__(self, input_size, hidden_size, num_layers, output_size):\n",
    "        super(LSTMModel, self).__init__()\n",
    "        self.lstm = nn.LSTM(input_size, hidden_size, num_layers, batch_first=True)\n",
    "        self.fc = nn.Linear(hidden_size, output_size)\n",
    "\n",
    "    def forward(self, x, h0, c0):\n",
    "        h0 = torch.zeros(num_layers,  hidden_size).to(device)\n",
    "        c0 = torch.zeros(num_layers,  hidden_size).to(device)\n",
    "        out, (hn, cn) = self.lstm(x, (h0, c0))\n",
    "        out = self.fc(out)\n",
    "        return out, (hn, cn)\n",
    "\n",
    "def expand_data(dataframe):\n",
    "    '''inputs: original dataframe with values for ONE station'''\n",
    "\n",
    "    dataframe_copy = dataframe.copy()\n",
    "\n",
    "    # create new dataframe with index as every hour\n",
    "    dataframe_copy['Time'] = pd.to_datetime(dataframe_copy['charging_hour'], format='%Y-%m-%d %H:%M:%S').dt.tz_localize(None)\n",
    "\n",
    "    start_index = dataframe_copy.iloc[0, -1].date() #starting point is the day of the first index\n",
    "    end_index = dataframe_copy.iloc[-1, -1].date() # ending pojnt is the day of the last index\n",
    "    indices = pd.date_range(start_index, end_index, freq='1H')\n",
    "\n",
    "    dataframe_copy.set_index('Time', inplace=True)\n",
    "\n",
    "    print(dataframe.describe())\n",
    "    #dataframe.describe().to_csv('Opis podataka Osijek.csv', sep=';')\n",
    "\n",
    "    # new_dataframe is a dataframe that is expanded with zero values\n",
    "    new_dataframe = pd.DataFrame(index=indices, data=dataframe_copy)\n",
    "\n",
    "    # important features (charging_minutes, consumption, utilization) are filled with zeros\n",
    "    # other values (that are the same for each time step) are copied - like connector_count and location_accesstype\n",
    "    #new_dataframe['location_accesstype_title'] = new_dataframe['location_accesstype_title'].fillna(dataframe_copy['location_accesstype_title'][0])\n",
    "    new_dataframe['charging_hour'] = new_dataframe['charging_hour'].fillna(np.nan)\n",
    "    # charging_hour column is filled with Nan values because it will be later dropped and is not necessary\n",
    "    new_dataframe['utilization'] = new_dataframe['utilization'].fillna(0.0)\n",
    "    #new_dataframe['connector_count'] = new_dataframe['connector_count'].fillna(dataframe_copy['connector_count'][0])\n",
    "    #new_dataframe['congested_connectors'] = new_dataframe['congested_connectors'].fillna(0.0)\n",
    "    #new_dataframe['energy_consumption'] = new_dataframe['energy_consumption'].fillna(0.0)\n",
    "    #new_dataframe['charging_minutes'] = new_dataframe['charging_minutes'].fillna(0.0)\n",
    "\n",
    "    # new_dataframe is then save to the .csv file\n",
    "    # new_dataframe.to_csv(r'C:\\Users\\ZVNE\\OneDrive - fer.hr\\projekti\\E-Mobility Grčka\\station data expanded ' + str(name) + '.csv', sep=';')\n",
    "\n",
    "    # expanded dataframe is returned\n",
    "    return new_dataframe\n",
    "\n",
    "from copy import deepcopy as dc\n",
    "\n",
    "def prepare_dataframe_for_lstm(df, n_steps):\n",
    "    df = dc(df)\n",
    "\n",
    "    #df.set_index('Date', inplace=True)\n",
    "\n",
    "    for i in range(1, n_steps+1):\n",
    "        df[f'util(t-{i})'] = df['utilization'].shift(i)\n",
    "\n",
    "    #df.dropna(inplace=True)\n",
    "\n",
    "    return df\n",
    "\n",
    "\n",
    "\n",
    "# Read the data from CSV\n",
    "data = pd.read_csv(\"station_data_hour_Opatija.csv\")\n",
    "\n",
    "\n",
    "# Provide the dataframe from database\n",
    "data_station = data.copy()\n",
    "\n",
    "# Get the user-provided value to filter on\n",
    "\n",
    "data_station = data_station[[\"utilization\",\"charging_hour\"]]\n",
    "data_station\n",
    "\n",
    "\n",
    "expanded_data_op = expand_data(data_station)\n",
    "expanded_data_op\n",
    "\n",
    "filter_data = expanded_data_op.copy() # here we selected which of the three stations is used\n",
    "\n",
    "\n",
    "lookback = 128\n",
    "shifted_df = prepare_dataframe_for_lstm(filter_data, lookback)\n",
    "shifted_df\n",
    "\n",
    "for i in range(1, lookback+1):\n",
    "  shifted_df[f'util(t-{i})'] = shifted_df[f'util(t-{i})'].fillna(0.0)\n",
    "\n",
    "shifted_df = shifted_df.drop(columns = \"charging_hour\", axis = 1)\n",
    "\n",
    "shifted_df_as_np = shifted_df.to_numpy()\n",
    "\n",
    "X = shifted_df_as_np[:, 1:]\n",
    "y = shifted_df_as_np[:, 0]\n",
    "\n",
    "X = dc(np.flip(X, axis=1))\n",
    "X[0]\n",
    "\n",
    "train_size = int(len(filter_data) * 0.8)\n",
    "val_size = int(len(filter_data) * 0.1)\n",
    "test_size = len(filter_data) - train_size - val_size\n",
    "\n",
    "X_train = X[:train_size]\n",
    "X_val = X[train_size:train_size+val_size]\n",
    "X_test = X[train_size+ val_size:]\n",
    "\n",
    "y_train = y[:train_size]\n",
    "y_val = y[train_size:train_size+val_size]\n",
    "y_test = y[train_size+ val_size:]\n",
    "\n",
    "X_train.shape, X_val.shape, X_test.shape, y_train.shape, y_val.shape, y_test.shape\n",
    "\n",
    "X_train = X_train.reshape((-1, lookback))\n",
    "X_val = X_val.reshape((-1, lookback))\n",
    "X_test = X_test.reshape((-1, lookback))\n",
    "\n",
    "y_train = y_train.reshape((-1, 1))\n",
    "y_val = y_val.reshape((-1, 1))\n",
    "y_test = y_test.reshape((-1, 1))\n",
    "\n",
    "X_train.shape, X_val.shape, X_test.shape, y_train.shape, y_val.shape, y_test.shape\n",
    "\n",
    "X_train = torch.tensor(X_train).float()\n",
    "y_train = torch.tensor(y_train).float()\n",
    "X_val = torch.tensor(X_val).float()\n",
    "y_val = torch.tensor(y_val).float()\n",
    "X_test = torch.tensor(X_test).float()\n",
    "y_test = torch.tensor(y_test).float()\n",
    "\n",
    "X_train.shape, X_val.shape, X_test.shape, y_train.shape, y_val.shape, y_test.shape\n",
    "\n",
    "train_dataset = TimeSeriesDataset(X_train, y_train)\n",
    "val_dataset = TimeSeriesDataset(X_train, y_train)\n",
    "test_dataset = TimeSeriesDataset(X_test, y_test)\n",
    "\n",
    "batch_size = 128\n",
    "\n",
    "train_loader = DataLoader(train_dataset, batch_size=batch_size, shuffle=True)\n",
    "val_loader = DataLoader(val_dataset, batch_size=batch_size, shuffle=True)\n",
    "test_loader = DataLoader(test_dataset, batch_size=batch_size, shuffle=False)\n",
    "\n",
    "import torch\n",
    "import torch.nn as nn\n",
    "from torch.utils.data import DataLoader, Dataset\n",
    "import pandas as pd\n",
    "\n",
    "\n",
    "device = torch.device(\"cuda\" if torch.cuda.is_available() else \"cpu\")\n",
    "input_size = train_dataset.X.size(1)  # Number of features in the input data\n",
    "hidden_size = 250  # Number of units in the LSTM hidden layer\n",
    "num_layers = 4  # Number of LSTM layers\n",
    "output_size = 1  # Number of output features (energy consumption and utilization)\n",
    "learning_rate = 0.0005\n",
    "num_epochs = 150\n",
    "batch_size = 128\n",
    "\n",
    "# Create data loaders\n",
    "\n",
    "model = LSTMModel(input_size, hidden_size, num_layers, output_size).to(device)\n",
    "criterion = nn.MSELoss()\n",
    "optimizer = torch.optim.Adam(model.parameters(), lr=learning_rate)\n",
    "\n",
    "# Initialize hidden states and cell states on the specified device\n",
    "h0 = torch.zeros(num_layers,  hidden_size).to(device)\n",
    "c0 = torch.zeros(num_layers,  hidden_size).to(device)\n",
    "\n",
    "# Placeholder for the best validation accuracy\n",
    "best_val_loss = float('inf')  # Initialize with a large value\n",
    "best_model_state = None\n",
    "\n",
    "# Training loop\n",
    "for epoch in range(num_epochs):\n",
    "    h0 = torch.zeros(num_layers,  hidden_size).to(device)\n",
    "    c0 = torch.zeros(num_layers,  hidden_size).to(device)\n",
    "    model.train()\n",
    "    total_loss = 0\n",
    "    for batch_idx, (features, labels) in enumerate(train_loader):\n",
    "\n",
    "        features, labels = features.to(device), labels.to(device)  # Move data to the specified device\n",
    "        h0 = h0.to(device)\n",
    "        c0 = c0.to(device)\n",
    "        # Forward pass with hidden states\n",
    "        #print(features.shape)\n",
    "        outputs, (h0, c0) = model(features, h0.detach(), c0.detach())\n",
    "        loss = criterion(outputs, labels)\n",
    "\n",
    "        # Backpropagation and optimization\n",
    "        optimizer.zero_grad()\n",
    "        loss.backward()\n",
    "        optimizer.step()\n",
    "\n",
    "        total_loss += loss.item()\n",
    "\n",
    "    average_train_loss = total_loss / len(train_loader)\n",
    "\n",
    "    # Validation\n",
    "    model.eval()\n",
    "    val_loss = 0\n",
    "    predictions = []\n",
    "    with torch.no_grad():\n",
    "        # Initialize validation hidden states and cell states with the final states of the training set\n",
    "        h0_val = h0.detach().clone()\n",
    "        c0_val = c0.detach().clone()\n",
    "\n",
    "        for batch_idx, (features, labels) in enumerate(val_loader):\n",
    "            features, labels = features.to(device), labels.to(device)\n",
    "\n",
    "            # Forward pass with hidden states\n",
    "            outputs, (h0_val, c0_val) = model(features, h0_val, c0_val)\n",
    "            loss = criterion(outputs, labels)\n",
    "            val_loss += loss.item()\n",
    "\n",
    "            # store predictions\n",
    "            predictions.extend(outputs.cpu().numpy())\n",
    "\n",
    "    average_val_loss = val_loss / len(val_loader)\n",
    "    # keep the model with the best performance in the validation set\n",
    "    if average_val_loss < best_val_loss:\n",
    "        best_val_loss = average_val_loss\n",
    "        best_model_state = model.state_dict()\n",
    "        best_predictions = predictions\n",
    "\n",
    "    print(f'Epoch [{epoch+1}/{num_epochs}], Train Loss: {average_train_loss:.4f}, Validation Loss: {average_val_loss:.4f}')\n",
    "\n",
    "print('Training finished.')\n",
    "print(best_val_loss)\n",
    "\n",
    "model.load_state_dict(best_model_state)\n",
    "\n",
    "# Save the best predictions for plotting (optional, you can save them for future use)\n",
    "np.save('best_predictions.npy', np.array(best_predictions))\n",
    "\n",
    "\n",
    "with torch.no_grad():\n",
    "    predicted, (h0_val,c0_val) = model(X_test.to(device),h0_val, c0_val)\n",
    "    #print((h0_val,c0_val))\n",
    "\n",
    "\n",
    "new_in = predicted[-129:-1]\n",
    "new_in = torch.unsqueeze(torch.squeeze(new_in, 1),0)\n",
    "predicted, (h0_val,c0_val) = model(new_in,h0_val, c0_val)\n",
    "new_in = torch.cat((new_in,predicted),1)\n",
    "new_in = new_in[0][1:]\n",
    "new_in = torch.unsqueeze(new_in,0)\n",
    "\n",
    "predictions = []\n",
    "for i in range(200):\n",
    "  predicted, (h0_val,c0_val) = model(new_in,h0_val, c0_val)\n",
    "  new_in = torch.cat((new_in,predicted),1)\n",
    "  new_in = new_in[0][1:]\n",
    "  new_in = torch.unsqueeze(new_in,0)\n",
    "  predictions.append(predicted.item())\n",
    "\n",
    "\n",
    "plt.plot(np.array(predictions), label='Predicted Utilization')\n",
    "plt.xlabel('hour')\n",
    "plt.ylabel('Utilization')\n",
    "plt.legend()\n",
    "plt.show()\n",
    "\n",
    "'''\n",
    "print(predicted.shape)\n",
    "plt.plot(np.array(y_test), label='Actual Close')\n",
    "plt.plot((predicted.cpu()), label='Predicted Close')\n",
    "plt.xlabel('Day')\n",
    "plt.ylabel('Close')\n",
    "plt.legend()\n",
    "plt.show()\n",
    "\n",
    "\n",
    "# Plot the best predictions for \"energy consumption\" and \"utilization\" separately\n",
    "fig, (ax1, ax2) = plt.subplots(2, 1, figsize=(12, 8), sharex=True)\n",
    "\n",
    "# Plot \"energy consumption\" predictions\n",
    "ax1.plot(np.array(best_predictions)[:, 0], label='Utilization (Predicted)', color='orange')\n",
    "ax1.plot(val_dataset.y.numpy()[:, 0], label='Utilization (True)', color='blue')\n",
    "ax1.set_ylabel('Utilization')\n",
    "ax1.legend()\n",
    "\n",
    "\n",
    "plt.xlabel('Time Step')\n",
    "plt.show()\n",
    "\n",
    "'''\n"
   ]
  },
  {
   "cell_type": "code",
   "execution_count": 5,
   "metadata": {
    "id": "rQk5LW5hkiB6"
   },
   "outputs": [
    {
     "name": "stdout",
     "output_type": "stream",
     "text": [
      "        Unnamed: 0  location_id  location_address_postnumber  utilization  \\\n",
      "count  1627.000000       1627.0                       1627.0  1627.000000   \n",
      "mean    813.000000     238016.0                      51410.0    42.302295   \n",
      "std     469.818759          0.0                          0.0    21.296356   \n",
      "min       0.000000     238016.0                      51410.0     0.000000   \n",
      "25%     406.500000     238016.0                      51410.0    27.500000   \n",
      "50%     813.000000     238016.0                      51410.0    50.000000   \n",
      "75%    1219.500000     238016.0                      51410.0    50.000000   \n",
      "max    1626.000000     238016.0                      51410.0   100.000000   \n",
      "\n",
      "       connector_count  congested_connectors  energy_consumption  \\\n",
      "count           1627.0           1627.000000         1627.000000   \n",
      "mean               2.0              0.612784            4.399252   \n",
      "std                0.0              0.553449            3.724568   \n",
      "min                2.0              0.000000            0.000000   \n",
      "25%                2.0              0.000000            1.346151   \n",
      "50%                2.0              1.000000            3.204889   \n",
      "75%                2.0              1.000000            6.799889   \n",
      "max                2.0              2.000000           21.649773   \n",
      "\n",
      "       charging_minutes  \n",
      "count       1627.000000  \n",
      "mean          50.762754  \n",
      "std           25.555627  \n",
      "min            0.000000  \n",
      "25%           33.000000  \n",
      "50%           60.000000  \n",
      "75%           60.000000  \n",
      "max          120.000000  \n",
      "                     Unnamed: 0  location_id location_friendlyname  \\\n",
      "2021-08-11 00:00:00         NaN          NaN                   NaN   \n",
      "2021-08-11 01:00:00         NaN          NaN                   NaN   \n",
      "2021-08-11 02:00:00         NaN          NaN                   NaN   \n",
      "2021-08-11 03:00:00         NaN          NaN                   NaN   \n",
      "2021-08-11 04:00:00         NaN          NaN                   NaN   \n",
      "...                         ...          ...                   ...   \n",
      "2022-10-29 20:00:00         NaN          NaN                   NaN   \n",
      "2022-10-29 21:00:00         NaN          NaN                   NaN   \n",
      "2022-10-29 22:00:00         NaN          NaN                   NaN   \n",
      "2022-10-29 23:00:00         NaN          NaN                   NaN   \n",
      "2022-10-30 00:00:00         NaN          NaN                   NaN   \n",
      "\n",
      "                    location_friendlycode location_address_cityname  \\\n",
      "2021-08-11 00:00:00                   NaN                       NaN   \n",
      "2021-08-11 01:00:00                   NaN                       NaN   \n",
      "2021-08-11 02:00:00                   NaN                       NaN   \n",
      "2021-08-11 03:00:00                   NaN                       NaN   \n",
      "2021-08-11 04:00:00                   NaN                       NaN   \n",
      "...                                   ...                       ...   \n",
      "2022-10-29 20:00:00                   NaN                       NaN   \n",
      "2022-10-29 21:00:00                   NaN                       NaN   \n",
      "2022-10-29 22:00:00                   NaN                       NaN   \n",
      "2022-10-29 23:00:00                   NaN                       NaN   \n",
      "2022-10-30 00:00:00                   NaN                       NaN   \n",
      "\n",
      "                     location_address_postnumber location_address_streetname  \\\n",
      "2021-08-11 00:00:00                          NaN                         NaN   \n",
      "2021-08-11 01:00:00                          NaN                         NaN   \n",
      "2021-08-11 02:00:00                          NaN                         NaN   \n",
      "2021-08-11 03:00:00                          NaN                         NaN   \n",
      "2021-08-11 04:00:00                          NaN                         NaN   \n",
      "...                                          ...                         ...   \n",
      "2022-10-29 20:00:00                          NaN                         NaN   \n",
      "2022-10-29 21:00:00                          NaN                         NaN   \n",
      "2022-10-29 22:00:00                          NaN                         NaN   \n",
      "2022-10-29 23:00:00                          NaN                         NaN   \n",
      "2022-10-30 00:00:00                          NaN                         NaN   \n",
      "\n",
      "                    location_address_housenumber    location_accesstype_title  \\\n",
      "2021-08-11 00:00:00                          NaN  Public access - Free access   \n",
      "2021-08-11 01:00:00                          NaN  Public access - Free access   \n",
      "2021-08-11 02:00:00                          NaN  Public access - Free access   \n",
      "2021-08-11 03:00:00                          NaN  Public access - Free access   \n",
      "2021-08-11 04:00:00                          NaN  Public access - Free access   \n",
      "...                                          ...                          ...   \n",
      "2022-10-29 20:00:00                          NaN  Public access - Free access   \n",
      "2022-10-29 21:00:00                          NaN  Public access - Free access   \n",
      "2022-10-29 22:00:00                          NaN  Public access - Free access   \n",
      "2022-10-29 23:00:00                          NaN  Public access - Free access   \n",
      "2022-10-30 00:00:00                          NaN  Public access - Free access   \n",
      "\n",
      "                    charging_hour  utilization  connector_count  \\\n",
      "2021-08-11 00:00:00           NaN          0.0              2.0   \n",
      "2021-08-11 01:00:00           NaN          0.0              2.0   \n",
      "2021-08-11 02:00:00           NaN          0.0              2.0   \n",
      "2021-08-11 03:00:00           NaN          0.0              2.0   \n",
      "2021-08-11 04:00:00           NaN          0.0              2.0   \n",
      "...                           ...          ...              ...   \n",
      "2022-10-29 20:00:00           NaN          0.0              2.0   \n",
      "2022-10-29 21:00:00           NaN          0.0              2.0   \n",
      "2022-10-29 22:00:00           NaN          0.0              2.0   \n",
      "2022-10-29 23:00:00           NaN          0.0              2.0   \n",
      "2022-10-30 00:00:00           NaN          0.0              2.0   \n",
      "\n",
      "                     congested_connectors  energy_consumption  \\\n",
      "2021-08-11 00:00:00                   0.0                 0.0   \n",
      "2021-08-11 01:00:00                   0.0                 0.0   \n",
      "2021-08-11 02:00:00                   0.0                 0.0   \n",
      "2021-08-11 03:00:00                   0.0                 0.0   \n",
      "2021-08-11 04:00:00                   0.0                 0.0   \n",
      "...                                   ...                 ...   \n",
      "2022-10-29 20:00:00                   0.0                 0.0   \n",
      "2022-10-29 21:00:00                   0.0                 0.0   \n",
      "2022-10-29 22:00:00                   0.0                 0.0   \n",
      "2022-10-29 23:00:00                   0.0                 0.0   \n",
      "2022-10-30 00:00:00                   0.0                 0.0   \n",
      "\n",
      "                     charging_minutes  \n",
      "2021-08-11 00:00:00               0.0  \n",
      "2021-08-11 01:00:00               0.0  \n",
      "2021-08-11 02:00:00               0.0  \n",
      "2021-08-11 03:00:00               0.0  \n",
      "2021-08-11 04:00:00               0.0  \n",
      "...                               ...  \n",
      "2022-10-29 20:00:00               0.0  \n",
      "2022-10-29 21:00:00               0.0  \n",
      "2022-10-29 22:00:00               0.0  \n",
      "2022-10-29 23:00:00               0.0  \n",
      "2022-10-30 00:00:00               0.0  \n",
      "\n",
      "[10681 rows x 15 columns]\n",
      "2021-08-11 00:00:00    0.0\n",
      "2021-08-11 01:00:00    0.0\n",
      "2021-08-11 02:00:00    0.0\n",
      "2021-08-11 03:00:00    0.0\n",
      "2021-08-11 04:00:00    0.0\n",
      "                      ... \n",
      "2022-10-29 20:00:00    0.0\n",
      "2022-10-29 21:00:00    0.0\n",
      "2022-10-29 22:00:00    0.0\n",
      "2022-10-29 23:00:00    0.0\n",
      "2022-10-30 00:00:00    0.0\n",
      "Freq: H, Name: utilization, Length: 10681, dtype: float64\n"
     ]
    },
    {
     "name": "stderr",
     "output_type": "stream",
     "text": [
      "  1%|▋                                                                         | 1/100 [00:02<04:49,  2.92s/it]"
     ]
    },
    {
     "name": "stdout",
     "output_type": "stream",
     "text": [
      "Epoch [1/50], Train Loss: 334.8802, Validation Loss: 152.5417\n"
     ]
    },
    {
     "name": "stderr",
     "output_type": "stream",
     "text": [
      "  2%|█▍                                                                        | 2/100 [00:05<04:23,  2.69s/it]"
     ]
    },
    {
     "name": "stdout",
     "output_type": "stream",
     "text": [
      "Epoch [2/50], Train Loss: 273.2875, Validation Loss: 83.6037\n"
     ]
    },
    {
     "name": "stderr",
     "output_type": "stream",
     "text": [
      "  3%|██▏                                                                       | 3/100 [00:07<04:13,  2.61s/it]"
     ]
    },
    {
     "name": "stdout",
     "output_type": "stream",
     "text": [
      "Epoch [3/50], Train Loss: 156.8152, Validation Loss: 56.3024\n"
     ]
    },
    {
     "name": "stderr",
     "output_type": "stream",
     "text": [
      "  4%|██▉                                                                       | 4/100 [00:10<04:07,  2.58s/it]"
     ]
    },
    {
     "name": "stdout",
     "output_type": "stream",
     "text": [
      "Epoch [4/50], Train Loss: 115.1710, Validation Loss: 49.2289\n"
     ]
    },
    {
     "name": "stderr",
     "output_type": "stream",
     "text": [
      "  5%|███▋                                                                      | 5/100 [00:13<04:02,  2.56s/it]"
     ]
    },
    {
     "name": "stdout",
     "output_type": "stream",
     "text": [
      "Epoch [5/50], Train Loss: 100.2868, Validation Loss: 46.3209\n"
     ]
    },
    {
     "name": "stderr",
     "output_type": "stream",
     "text": [
      "  6%|████▍                                                                     | 6/100 [00:15<03:58,  2.54s/it]"
     ]
    },
    {
     "name": "stdout",
     "output_type": "stream",
     "text": [
      "Epoch [6/50], Train Loss: 100.4241, Validation Loss: 66.9107\n"
     ]
    },
    {
     "name": "stderr",
     "output_type": "stream",
     "text": [
      "  7%|█████▏                                                                    | 7/100 [00:18<03:55,  2.53s/it]"
     ]
    },
    {
     "name": "stdout",
     "output_type": "stream",
     "text": [
      "Epoch [7/50], Train Loss: 98.1587, Validation Loss: 48.0536\n"
     ]
    },
    {
     "name": "stderr",
     "output_type": "stream",
     "text": [
      "  8%|█████▉                                                                    | 8/100 [00:20<03:52,  2.53s/it]"
     ]
    },
    {
     "name": "stdout",
     "output_type": "stream",
     "text": [
      "Epoch [8/50], Train Loss: 96.0417, Validation Loss: 55.3471\n"
     ]
    },
    {
     "name": "stderr",
     "output_type": "stream",
     "text": [
      "  9%|██████▋                                                                   | 9/100 [00:23<03:49,  2.53s/it]"
     ]
    },
    {
     "name": "stdout",
     "output_type": "stream",
     "text": [
      "Epoch [9/50], Train Loss: 94.0468, Validation Loss: 49.8569\n"
     ]
    },
    {
     "name": "stderr",
     "output_type": "stream",
     "text": [
      " 10%|███████▎                                                                 | 10/100 [00:25<03:47,  2.52s/it]"
     ]
    },
    {
     "name": "stdout",
     "output_type": "stream",
     "text": [
      "Epoch [10/50], Train Loss: 98.3942, Validation Loss: 51.7848\n"
     ]
    },
    {
     "name": "stderr",
     "output_type": "stream",
     "text": [
      " 11%|████████                                                                 | 11/100 [00:28<03:44,  2.52s/it]"
     ]
    },
    {
     "name": "stdout",
     "output_type": "stream",
     "text": [
      "Epoch [11/50], Train Loss: 94.8398, Validation Loss: 49.3333\n"
     ]
    },
    {
     "name": "stderr",
     "output_type": "stream",
     "text": [
      " 12%|████████▊                                                                | 12/100 [00:30<03:41,  2.52s/it]"
     ]
    },
    {
     "name": "stdout",
     "output_type": "stream",
     "text": [
      "Epoch [12/50], Train Loss: 92.4888, Validation Loss: 47.2452\n"
     ]
    },
    {
     "name": "stderr",
     "output_type": "stream",
     "text": [
      " 13%|█████████▍                                                               | 13/100 [00:33<03:39,  2.52s/it]"
     ]
    },
    {
     "name": "stdout",
     "output_type": "stream",
     "text": [
      "Epoch [13/50], Train Loss: 88.4608, Validation Loss: 48.2971\n"
     ]
    },
    {
     "name": "stderr",
     "output_type": "stream",
     "text": [
      " 14%|██████████▏                                                              | 14/100 [00:35<03:36,  2.52s/it]"
     ]
    },
    {
     "name": "stdout",
     "output_type": "stream",
     "text": [
      "Epoch [14/50], Train Loss: 87.1910, Validation Loss: 42.3299\n"
     ]
    },
    {
     "name": "stderr",
     "output_type": "stream",
     "text": [
      " 15%|██████████▉                                                              | 15/100 [00:38<03:34,  2.52s/it]"
     ]
    },
    {
     "name": "stdout",
     "output_type": "stream",
     "text": [
      "Epoch [15/50], Train Loss: 86.3589, Validation Loss: 52.1533\n"
     ]
    },
    {
     "name": "stderr",
     "output_type": "stream",
     "text": [
      " 16%|███████████▋                                                             | 16/100 [00:40<03:31,  2.52s/it]"
     ]
    },
    {
     "name": "stdout",
     "output_type": "stream",
     "text": [
      "Epoch [16/50], Train Loss: 85.1243, Validation Loss: 46.9872\n"
     ]
    },
    {
     "name": "stderr",
     "output_type": "stream",
     "text": [
      " 17%|████████████▍                                                            | 17/100 [00:43<03:29,  2.52s/it]"
     ]
    },
    {
     "name": "stdout",
     "output_type": "stream",
     "text": [
      "Epoch [17/50], Train Loss: 82.7175, Validation Loss: 48.5140\n"
     ]
    },
    {
     "name": "stderr",
     "output_type": "stream",
     "text": [
      " 18%|█████████████▏                                                           | 18/100 [00:45<03:26,  2.52s/it]"
     ]
    },
    {
     "name": "stdout",
     "output_type": "stream",
     "text": [
      "Epoch [18/50], Train Loss: 81.7029, Validation Loss: 43.6993\n"
     ]
    },
    {
     "name": "stderr",
     "output_type": "stream",
     "text": [
      " 19%|█████████████▊                                                           | 19/100 [00:48<03:23,  2.52s/it]"
     ]
    },
    {
     "name": "stdout",
     "output_type": "stream",
     "text": [
      "Epoch [19/50], Train Loss: 81.5137, Validation Loss: 48.9345\n"
     ]
    },
    {
     "name": "stderr",
     "output_type": "stream",
     "text": [
      " 20%|██████████████▌                                                          | 20/100 [00:50<03:21,  2.52s/it]"
     ]
    },
    {
     "name": "stdout",
     "output_type": "stream",
     "text": [
      "Epoch [20/50], Train Loss: 79.5908, Validation Loss: 46.5696\n"
     ]
    },
    {
     "name": "stderr",
     "output_type": "stream",
     "text": [
      " 21%|███████████████▎                                                         | 21/100 [00:53<03:18,  2.52s/it]"
     ]
    },
    {
     "name": "stdout",
     "output_type": "stream",
     "text": [
      "Epoch [21/50], Train Loss: 81.5544, Validation Loss: 49.1421\n"
     ]
    },
    {
     "name": "stderr",
     "output_type": "stream",
     "text": [
      " 22%|████████████████                                                         | 22/100 [00:55<03:16,  2.52s/it]"
     ]
    },
    {
     "name": "stdout",
     "output_type": "stream",
     "text": [
      "Epoch [22/50], Train Loss: 78.8739, Validation Loss: 46.1294\n"
     ]
    },
    {
     "name": "stderr",
     "output_type": "stream",
     "text": [
      " 23%|████████████████▊                                                        | 23/100 [00:58<03:13,  2.51s/it]"
     ]
    },
    {
     "name": "stdout",
     "output_type": "stream",
     "text": [
      "Epoch [23/50], Train Loss: 77.5961, Validation Loss: 49.1465\n"
     ]
    },
    {
     "name": "stderr",
     "output_type": "stream",
     "text": [
      " 24%|█████████████████▌                                                       | 24/100 [01:00<03:10,  2.51s/it]"
     ]
    },
    {
     "name": "stdout",
     "output_type": "stream",
     "text": [
      "Epoch [24/50], Train Loss: 78.9793, Validation Loss: 49.4955\n"
     ]
    },
    {
     "name": "stderr",
     "output_type": "stream",
     "text": [
      " 25%|██████████████████▎                                                      | 25/100 [01:03<03:08,  2.51s/it]"
     ]
    },
    {
     "name": "stdout",
     "output_type": "stream",
     "text": [
      "Epoch [25/50], Train Loss: 78.2550, Validation Loss: 49.5171\n"
     ]
    },
    {
     "name": "stderr",
     "output_type": "stream",
     "text": [
      " 26%|██████████████████▉                                                      | 26/100 [01:05<03:05,  2.51s/it]"
     ]
    },
    {
     "name": "stdout",
     "output_type": "stream",
     "text": [
      "Epoch [26/50], Train Loss: 78.3478, Validation Loss: 50.0994\n"
     ]
    },
    {
     "name": "stderr",
     "output_type": "stream",
     "text": [
      " 27%|███████████████████▋                                                     | 27/100 [01:08<03:03,  2.51s/it]"
     ]
    },
    {
     "name": "stdout",
     "output_type": "stream",
     "text": [
      "Epoch [27/50], Train Loss: 76.2349, Validation Loss: 49.8659\n"
     ]
    },
    {
     "name": "stderr",
     "output_type": "stream",
     "text": [
      " 28%|████████████████████▍                                                    | 28/100 [01:10<03:00,  2.51s/it]"
     ]
    },
    {
     "name": "stdout",
     "output_type": "stream",
     "text": [
      "Epoch [28/50], Train Loss: 77.1956, Validation Loss: 52.9394\n"
     ]
    },
    {
     "name": "stderr",
     "output_type": "stream",
     "text": [
      " 29%|█████████████████████▏                                                   | 29/100 [01:13<02:57,  2.51s/it]"
     ]
    },
    {
     "name": "stdout",
     "output_type": "stream",
     "text": [
      "Epoch [29/50], Train Loss: 77.5164, Validation Loss: 45.2399\n"
     ]
    },
    {
     "name": "stderr",
     "output_type": "stream",
     "text": [
      " 30%|█████████████████████▉                                                   | 30/100 [01:15<02:55,  2.51s/it]"
     ]
    },
    {
     "name": "stdout",
     "output_type": "stream",
     "text": [
      "Epoch [30/50], Train Loss: 74.7397, Validation Loss: 48.0212\n"
     ]
    },
    {
     "name": "stderr",
     "output_type": "stream",
     "text": [
      " 31%|██████████████████████▋                                                  | 31/100 [01:18<02:53,  2.51s/it]"
     ]
    },
    {
     "name": "stdout",
     "output_type": "stream",
     "text": [
      "Epoch [31/50], Train Loss: 76.5426, Validation Loss: 49.8692\n"
     ]
    },
    {
     "name": "stderr",
     "output_type": "stream",
     "text": [
      " 32%|███████████████████████▎                                                 | 32/100 [01:20<02:50,  2.51s/it]"
     ]
    },
    {
     "name": "stdout",
     "output_type": "stream",
     "text": [
      "Epoch [32/50], Train Loss: 80.2767, Validation Loss: 54.6317\n"
     ]
    },
    {
     "name": "stderr",
     "output_type": "stream",
     "text": [
      " 33%|████████████████████████                                                 | 33/100 [01:23<02:47,  2.51s/it]"
     ]
    },
    {
     "name": "stdout",
     "output_type": "stream",
     "text": [
      "Epoch [33/50], Train Loss: 83.3227, Validation Loss: 51.9948\n"
     ]
    },
    {
     "name": "stderr",
     "output_type": "stream",
     "text": [
      " 34%|████████████████████████▊                                                | 34/100 [01:25<02:45,  2.51s/it]"
     ]
    },
    {
     "name": "stdout",
     "output_type": "stream",
     "text": [
      "Epoch [34/50], Train Loss: 76.7195, Validation Loss: 49.3696\n"
     ]
    },
    {
     "name": "stderr",
     "output_type": "stream",
     "text": [
      " 35%|█████████████████████████▌                                               | 35/100 [01:28<02:42,  2.51s/it]"
     ]
    },
    {
     "name": "stdout",
     "output_type": "stream",
     "text": [
      "Epoch [35/50], Train Loss: 76.0824, Validation Loss: 55.2737\n"
     ]
    },
    {
     "name": "stderr",
     "output_type": "stream",
     "text": [
      " 36%|██████████████████████████▎                                              | 36/100 [01:30<02:40,  2.51s/it]"
     ]
    },
    {
     "name": "stdout",
     "output_type": "stream",
     "text": [
      "Epoch [36/50], Train Loss: 75.1621, Validation Loss: 50.9521\n"
     ]
    },
    {
     "name": "stderr",
     "output_type": "stream",
     "text": [
      " 37%|███████████████████████████                                              | 37/100 [01:33<02:38,  2.51s/it]"
     ]
    },
    {
     "name": "stdout",
     "output_type": "stream",
     "text": [
      "Epoch [37/50], Train Loss: 76.2329, Validation Loss: 50.7433\n"
     ]
    },
    {
     "name": "stderr",
     "output_type": "stream",
     "text": [
      " 38%|███████████████████████████▋                                             | 38/100 [01:35<02:35,  2.51s/it]"
     ]
    },
    {
     "name": "stdout",
     "output_type": "stream",
     "text": [
      "Epoch [38/50], Train Loss: 76.9710, Validation Loss: 59.4148\n"
     ]
    },
    {
     "name": "stderr",
     "output_type": "stream",
     "text": [
      " 39%|████████████████████████████▍                                            | 39/100 [01:38<02:32,  2.51s/it]"
     ]
    },
    {
     "name": "stdout",
     "output_type": "stream",
     "text": [
      "Epoch [39/50], Train Loss: 77.4981, Validation Loss: 50.4039\n"
     ]
    },
    {
     "name": "stderr",
     "output_type": "stream",
     "text": [
      " 40%|█████████████████████████████▏                                           | 40/100 [01:40<02:30,  2.51s/it]"
     ]
    },
    {
     "name": "stdout",
     "output_type": "stream",
     "text": [
      "Epoch [40/50], Train Loss: 74.6209, Validation Loss: 53.6618\n"
     ]
    },
    {
     "name": "stderr",
     "output_type": "stream",
     "text": [
      " 41%|█████████████████████████████▉                                           | 41/100 [01:43<02:28,  2.51s/it]"
     ]
    },
    {
     "name": "stdout",
     "output_type": "stream",
     "text": [
      "Epoch [41/50], Train Loss: 76.2823, Validation Loss: 51.5705\n"
     ]
    },
    {
     "name": "stderr",
     "output_type": "stream",
     "text": [
      " 42%|██████████████████████████████▋                                          | 42/100 [01:45<02:25,  2.51s/it]"
     ]
    },
    {
     "name": "stdout",
     "output_type": "stream",
     "text": [
      "Epoch [42/50], Train Loss: 73.7550, Validation Loss: 50.6036\n"
     ]
    },
    {
     "name": "stderr",
     "output_type": "stream",
     "text": [
      " 43%|███████████████████████████████▍                                         | 43/100 [01:48<02:22,  2.51s/it]"
     ]
    },
    {
     "name": "stdout",
     "output_type": "stream",
     "text": [
      "Epoch [43/50], Train Loss: 72.2329, Validation Loss: 51.9372\n"
     ]
    },
    {
     "name": "stderr",
     "output_type": "stream",
     "text": [
      " 44%|████████████████████████████████                                         | 44/100 [01:50<02:20,  2.51s/it]"
     ]
    },
    {
     "name": "stdout",
     "output_type": "stream",
     "text": [
      "Epoch [44/50], Train Loss: 72.8541, Validation Loss: 47.1312\n"
     ]
    },
    {
     "name": "stderr",
     "output_type": "stream",
     "text": [
      " 45%|████████████████████████████████▊                                        | 45/100 [01:53<02:17,  2.51s/it]"
     ]
    },
    {
     "name": "stdout",
     "output_type": "stream",
     "text": [
      "Epoch [45/50], Train Loss: 72.1238, Validation Loss: 48.8690\n"
     ]
    },
    {
     "name": "stderr",
     "output_type": "stream",
     "text": [
      " 46%|█████████████████████████████████▌                                       | 46/100 [01:55<02:15,  2.51s/it]"
     ]
    },
    {
     "name": "stdout",
     "output_type": "stream",
     "text": [
      "Epoch [46/50], Train Loss: 72.1016, Validation Loss: 48.4924\n"
     ]
    },
    {
     "name": "stderr",
     "output_type": "stream",
     "text": [
      " 47%|██████████████████████████████████▎                                      | 47/100 [01:58<02:12,  2.51s/it]"
     ]
    },
    {
     "name": "stdout",
     "output_type": "stream",
     "text": [
      "Epoch [47/50], Train Loss: 71.9420, Validation Loss: 48.8095\n"
     ]
    },
    {
     "name": "stderr",
     "output_type": "stream",
     "text": [
      " 48%|███████████████████████████████████                                      | 48/100 [02:01<02:10,  2.51s/it]"
     ]
    },
    {
     "name": "stdout",
     "output_type": "stream",
     "text": [
      "Epoch [48/50], Train Loss: 73.9109, Validation Loss: 50.0953\n"
     ]
    },
    {
     "name": "stderr",
     "output_type": "stream",
     "text": [
      " 49%|███████████████████████████████████▊                                     | 49/100 [02:03<02:07,  2.51s/it]"
     ]
    },
    {
     "name": "stdout",
     "output_type": "stream",
     "text": [
      "Epoch [49/50], Train Loss: 72.3754, Validation Loss: 50.5420\n"
     ]
    },
    {
     "name": "stderr",
     "output_type": "stream",
     "text": [
      " 50%|████████████████████████████████████▌                                    | 50/100 [02:06<02:05,  2.51s/it]"
     ]
    },
    {
     "name": "stdout",
     "output_type": "stream",
     "text": [
      "Epoch [50/50], Train Loss: 71.3224, Validation Loss: 53.8142\n"
     ]
    },
    {
     "name": "stderr",
     "output_type": "stream",
     "text": [
      " 51%|█████████████████████████████████████▏                                   | 51/100 [02:08<02:03,  2.51s/it]"
     ]
    },
    {
     "name": "stdout",
     "output_type": "stream",
     "text": [
      "Epoch [51/50], Train Loss: 70.3515, Validation Loss: 49.3394\n"
     ]
    },
    {
     "name": "stderr",
     "output_type": "stream",
     "text": [
      " 52%|█████████████████████████████████████▉                                   | 52/100 [02:11<02:00,  2.51s/it]"
     ]
    },
    {
     "name": "stdout",
     "output_type": "stream",
     "text": [
      "Epoch [52/50], Train Loss: 68.6712, Validation Loss: 48.8832\n"
     ]
    },
    {
     "name": "stderr",
     "output_type": "stream",
     "text": [
      " 53%|██████████████████████████████████████▋                                  | 53/100 [02:13<01:58,  2.52s/it]"
     ]
    },
    {
     "name": "stdout",
     "output_type": "stream",
     "text": [
      "Epoch [53/50], Train Loss: 67.8212, Validation Loss: 49.4023\n"
     ]
    },
    {
     "name": "stderr",
     "output_type": "stream",
     "text": [
      " 54%|███████████████████████████████████████▍                                 | 54/100 [02:16<01:55,  2.52s/it]"
     ]
    },
    {
     "name": "stdout",
     "output_type": "stream",
     "text": [
      "Epoch [54/50], Train Loss: 67.4927, Validation Loss: 50.0984\n"
     ]
    },
    {
     "name": "stderr",
     "output_type": "stream",
     "text": [
      " 55%|████████████████████████████████████████▏                                | 55/100 [02:18<01:53,  2.52s/it]"
     ]
    },
    {
     "name": "stdout",
     "output_type": "stream",
     "text": [
      "Epoch [55/50], Train Loss: 65.8208, Validation Loss: 49.7446\n"
     ]
    },
    {
     "name": "stderr",
     "output_type": "stream",
     "text": [
      " 56%|████████████████████████████████████████▉                                | 56/100 [02:21<01:50,  2.52s/it]"
     ]
    },
    {
     "name": "stdout",
     "output_type": "stream",
     "text": [
      "Epoch [56/50], Train Loss: 67.8895, Validation Loss: 52.5157\n"
     ]
    },
    {
     "name": "stderr",
     "output_type": "stream",
     "text": [
      " 57%|█████████████████████████████████████████▌                               | 57/100 [02:23<01:48,  2.52s/it]"
     ]
    },
    {
     "name": "stdout",
     "output_type": "stream",
     "text": [
      "Epoch [57/50], Train Loss: 67.7964, Validation Loss: 53.2955\n"
     ]
    },
    {
     "name": "stderr",
     "output_type": "stream",
     "text": [
      " 58%|██████████████████████████████████████████▎                              | 58/100 [02:26<01:45,  2.52s/it]"
     ]
    },
    {
     "name": "stdout",
     "output_type": "stream",
     "text": [
      "Epoch [58/50], Train Loss: 67.2631, Validation Loss: 50.6991\n"
     ]
    },
    {
     "name": "stderr",
     "output_type": "stream",
     "text": [
      " 59%|███████████████████████████████████████████                              | 59/100 [02:28<01:43,  2.52s/it]"
     ]
    },
    {
     "name": "stdout",
     "output_type": "stream",
     "text": [
      "Epoch [59/50], Train Loss: 64.1222, Validation Loss: 52.8055\n"
     ]
    },
    {
     "name": "stderr",
     "output_type": "stream",
     "text": [
      " 60%|███████████████████████████████████████████▊                             | 60/100 [02:31<01:40,  2.52s/it]"
     ]
    },
    {
     "name": "stdout",
     "output_type": "stream",
     "text": [
      "Epoch [60/50], Train Loss: 65.1287, Validation Loss: 53.5088\n"
     ]
    },
    {
     "name": "stderr",
     "output_type": "stream",
     "text": [
      " 61%|████████████████████████████████████████████▌                            | 61/100 [02:33<01:38,  2.52s/it]"
     ]
    },
    {
     "name": "stdout",
     "output_type": "stream",
     "text": [
      "Epoch [61/50], Train Loss: 64.4364, Validation Loss: 53.1637\n"
     ]
    },
    {
     "name": "stderr",
     "output_type": "stream",
     "text": [
      " 62%|█████████████████████████████████████████████▎                           | 62/100 [02:36<01:35,  2.52s/it]"
     ]
    },
    {
     "name": "stdout",
     "output_type": "stream",
     "text": [
      "Epoch [62/50], Train Loss: 65.9668, Validation Loss: 55.6586\n"
     ]
    },
    {
     "name": "stderr",
     "output_type": "stream",
     "text": [
      " 63%|█████████████████████████████████████████████▉                           | 63/100 [02:38<01:33,  2.52s/it]"
     ]
    },
    {
     "name": "stdout",
     "output_type": "stream",
     "text": [
      "Epoch [63/50], Train Loss: 64.5189, Validation Loss: 51.4366\n"
     ]
    },
    {
     "name": "stderr",
     "output_type": "stream",
     "text": [
      " 64%|██████████████████████████████████████████████▋                          | 64/100 [02:41<01:30,  2.52s/it]"
     ]
    },
    {
     "name": "stdout",
     "output_type": "stream",
     "text": [
      "Epoch [64/50], Train Loss: 64.2379, Validation Loss: 55.1315\n"
     ]
    },
    {
     "name": "stderr",
     "output_type": "stream",
     "text": [
      " 65%|███████████████████████████████████████████████▍                         | 65/100 [02:43<01:28,  2.52s/it]"
     ]
    },
    {
     "name": "stdout",
     "output_type": "stream",
     "text": [
      "Epoch [65/50], Train Loss: 62.2261, Validation Loss: 54.2444\n"
     ]
    },
    {
     "name": "stderr",
     "output_type": "stream",
     "text": [
      " 66%|████████████████████████████████████████████████▏                        | 66/100 [02:46<01:25,  2.52s/it]"
     ]
    },
    {
     "name": "stdout",
     "output_type": "stream",
     "text": [
      "Epoch [66/50], Train Loss: 68.7964, Validation Loss: 57.6349\n"
     ]
    },
    {
     "name": "stderr",
     "output_type": "stream",
     "text": [
      " 67%|████████████████████████████████████████████████▉                        | 67/100 [02:48<01:23,  2.52s/it]"
     ]
    },
    {
     "name": "stdout",
     "output_type": "stream",
     "text": [
      "Epoch [67/50], Train Loss: 71.4080, Validation Loss: 54.0377\n"
     ]
    },
    {
     "name": "stderr",
     "output_type": "stream",
     "text": [
      " 68%|█████████████████████████████████████████████████▋                       | 68/100 [02:51<01:20,  2.52s/it]"
     ]
    },
    {
     "name": "stdout",
     "output_type": "stream",
     "text": [
      "Epoch [68/50], Train Loss: 63.3390, Validation Loss: 52.4503\n"
     ]
    },
    {
     "name": "stderr",
     "output_type": "stream",
     "text": [
      " 69%|██████████████████████████████████████████████████▎                      | 69/100 [02:53<01:18,  2.52s/it]"
     ]
    },
    {
     "name": "stdout",
     "output_type": "stream",
     "text": [
      "Epoch [69/50], Train Loss: 61.8097, Validation Loss: 54.9769\n"
     ]
    },
    {
     "name": "stderr",
     "output_type": "stream",
     "text": [
      " 70%|███████████████████████████████████████████████████                      | 70/100 [02:56<01:15,  2.52s/it]"
     ]
    },
    {
     "name": "stdout",
     "output_type": "stream",
     "text": [
      "Epoch [70/50], Train Loss: 60.7840, Validation Loss: 55.9324\n"
     ]
    },
    {
     "name": "stderr",
     "output_type": "stream",
     "text": [
      " 71%|███████████████████████████████████████████████████▊                     | 71/100 [02:58<01:13,  2.52s/it]"
     ]
    },
    {
     "name": "stdout",
     "output_type": "stream",
     "text": [
      "Epoch [71/50], Train Loss: 64.6398, Validation Loss: 56.8637\n"
     ]
    },
    {
     "name": "stderr",
     "output_type": "stream",
     "text": [
      " 72%|████████████████████████████████████████████████████▌                    | 72/100 [03:01<01:10,  2.52s/it]"
     ]
    },
    {
     "name": "stdout",
     "output_type": "stream",
     "text": [
      "Epoch [72/50], Train Loss: 63.8062, Validation Loss: 53.9935\n"
     ]
    },
    {
     "name": "stderr",
     "output_type": "stream",
     "text": [
      " 73%|█████████████████████████████████████████████████████▎                   | 73/100 [03:03<01:08,  2.52s/it]"
     ]
    },
    {
     "name": "stdout",
     "output_type": "stream",
     "text": [
      "Epoch [73/50], Train Loss: 59.0991, Validation Loss: 57.0097\n"
     ]
    },
    {
     "name": "stderr",
     "output_type": "stream",
     "text": [
      " 74%|██████████████████████████████████████████████████████                   | 74/100 [03:06<01:05,  2.52s/it]"
     ]
    },
    {
     "name": "stdout",
     "output_type": "stream",
     "text": [
      "Epoch [74/50], Train Loss: 59.1863, Validation Loss: 55.6564\n"
     ]
    },
    {
     "name": "stderr",
     "output_type": "stream",
     "text": [
      " 75%|██████████████████████████████████████████████████████▊                  | 75/100 [03:08<01:02,  2.52s/it]"
     ]
    },
    {
     "name": "stdout",
     "output_type": "stream",
     "text": [
      "Epoch [75/50], Train Loss: 59.8893, Validation Loss: 57.1600\n"
     ]
    },
    {
     "name": "stderr",
     "output_type": "stream",
     "text": [
      " 76%|███████████████████████████████████████████████████████▍                 | 76/100 [03:11<01:00,  2.52s/it]"
     ]
    },
    {
     "name": "stdout",
     "output_type": "stream",
     "text": [
      "Epoch [76/50], Train Loss: 58.9088, Validation Loss: 55.7608\n"
     ]
    },
    {
     "name": "stderr",
     "output_type": "stream",
     "text": [
      " 77%|████████████████████████████████████████████████████████▏                | 77/100 [03:14<00:57,  2.52s/it]"
     ]
    },
    {
     "name": "stdout",
     "output_type": "stream",
     "text": [
      "Epoch [77/50], Train Loss: 57.9993, Validation Loss: 57.5561\n"
     ]
    },
    {
     "name": "stderr",
     "output_type": "stream",
     "text": [
      " 78%|████████████████████████████████████████████████████████▉                | 78/100 [03:16<00:55,  2.52s/it]"
     ]
    },
    {
     "name": "stdout",
     "output_type": "stream",
     "text": [
      "Epoch [78/50], Train Loss: 56.1307, Validation Loss: 53.6864\n"
     ]
    },
    {
     "name": "stderr",
     "output_type": "stream",
     "text": [
      " 79%|█████████████████████████████████████████████████████████▋               | 79/100 [03:19<00:52,  2.52s/it]"
     ]
    },
    {
     "name": "stdout",
     "output_type": "stream",
     "text": [
      "Epoch [79/50], Train Loss: 55.9706, Validation Loss: 58.9545\n"
     ]
    },
    {
     "name": "stderr",
     "output_type": "stream",
     "text": [
      " 80%|██████████████████████████████████████████████████████████▍              | 80/100 [03:21<00:50,  2.52s/it]"
     ]
    },
    {
     "name": "stdout",
     "output_type": "stream",
     "text": [
      "Epoch [80/50], Train Loss: 56.4172, Validation Loss: 57.7318\n"
     ]
    },
    {
     "name": "stderr",
     "output_type": "stream",
     "text": [
      " 81%|███████████████████████████████████████████████████████████▏             | 81/100 [03:24<00:47,  2.52s/it]"
     ]
    },
    {
     "name": "stdout",
     "output_type": "stream",
     "text": [
      "Epoch [81/50], Train Loss: 58.0327, Validation Loss: 56.5543\n"
     ]
    },
    {
     "name": "stderr",
     "output_type": "stream",
     "text": [
      " 82%|███████████████████████████████████████████████████████████▊             | 82/100 [03:26<00:45,  2.52s/it]"
     ]
    },
    {
     "name": "stdout",
     "output_type": "stream",
     "text": [
      "Epoch [82/50], Train Loss: 59.3276, Validation Loss: 56.8183\n"
     ]
    },
    {
     "name": "stderr",
     "output_type": "stream",
     "text": [
      " 83%|████████████████████████████████████████████████████████████▌            | 83/100 [03:29<00:42,  2.52s/it]"
     ]
    },
    {
     "name": "stdout",
     "output_type": "stream",
     "text": [
      "Epoch [83/50], Train Loss: 54.4753, Validation Loss: 57.5392\n"
     ]
    },
    {
     "name": "stderr",
     "output_type": "stream",
     "text": [
      " 84%|█████████████████████████████████████████████████████████████▎           | 84/100 [03:31<00:40,  2.52s/it]"
     ]
    },
    {
     "name": "stdout",
     "output_type": "stream",
     "text": [
      "Epoch [84/50], Train Loss: 57.7478, Validation Loss: 54.1167\n"
     ]
    },
    {
     "name": "stderr",
     "output_type": "stream",
     "text": [
      " 85%|██████████████████████████████████████████████████████████████           | 85/100 [03:34<00:37,  2.52s/it]"
     ]
    },
    {
     "name": "stdout",
     "output_type": "stream",
     "text": [
      "Epoch [85/50], Train Loss: 52.3950, Validation Loss: 61.3875\n"
     ]
    },
    {
     "name": "stderr",
     "output_type": "stream",
     "text": [
      " 86%|██████████████████████████████████████████████████████████████▊          | 86/100 [03:36<00:35,  2.52s/it]"
     ]
    },
    {
     "name": "stdout",
     "output_type": "stream",
     "text": [
      "Epoch [86/50], Train Loss: 54.0067, Validation Loss: 55.2076\n"
     ]
    },
    {
     "name": "stderr",
     "output_type": "stream",
     "text": [
      " 87%|███████████████████████████████████████████████████████████████▌         | 87/100 [03:39<00:32,  2.52s/it]"
     ]
    },
    {
     "name": "stdout",
     "output_type": "stream",
     "text": [
      "Epoch [87/50], Train Loss: 52.4592, Validation Loss: 57.0378\n"
     ]
    },
    {
     "name": "stderr",
     "output_type": "stream",
     "text": [
      " 88%|████████████████████████████████████████████████████████████████▏        | 88/100 [03:41<00:30,  2.52s/it]"
     ]
    },
    {
     "name": "stdout",
     "output_type": "stream",
     "text": [
      "Epoch [88/50], Train Loss: 55.3918, Validation Loss: 59.2008\n"
     ]
    },
    {
     "name": "stderr",
     "output_type": "stream",
     "text": [
      " 89%|████████████████████████████████████████████████████████████████▉        | 89/100 [03:44<00:27,  2.52s/it]"
     ]
    },
    {
     "name": "stdout",
     "output_type": "stream",
     "text": [
      "Epoch [89/50], Train Loss: 48.9776, Validation Loss: 53.2269\n"
     ]
    },
    {
     "name": "stderr",
     "output_type": "stream",
     "text": [
      " 90%|█████████████████████████████████████████████████████████████████▋       | 90/100 [03:46<00:25,  2.52s/it]"
     ]
    },
    {
     "name": "stdout",
     "output_type": "stream",
     "text": [
      "Epoch [90/50], Train Loss: 49.1344, Validation Loss: 60.7437\n"
     ]
    },
    {
     "name": "stderr",
     "output_type": "stream",
     "text": [
      " 91%|██████████████████████████████████████████████████████████████████▍      | 91/100 [03:49<00:22,  2.52s/it]"
     ]
    },
    {
     "name": "stdout",
     "output_type": "stream",
     "text": [
      "Epoch [91/50], Train Loss: 48.9165, Validation Loss: 61.8919\n"
     ]
    },
    {
     "name": "stderr",
     "output_type": "stream",
     "text": [
      " 92%|███████████████████████████████████████████████████████████████████▏     | 92/100 [03:51<00:20,  2.52s/it]"
     ]
    },
    {
     "name": "stdout",
     "output_type": "stream",
     "text": [
      "Epoch [92/50], Train Loss: 48.8861, Validation Loss: 60.0248\n"
     ]
    },
    {
     "name": "stderr",
     "output_type": "stream",
     "text": [
      " 93%|███████████████████████████████████████████████████████████████████▉     | 93/100 [03:54<00:17,  2.52s/it]"
     ]
    },
    {
     "name": "stdout",
     "output_type": "stream",
     "text": [
      "Epoch [93/50], Train Loss: 46.9792, Validation Loss: 60.2567\n"
     ]
    },
    {
     "name": "stderr",
     "output_type": "stream",
     "text": [
      " 94%|████████████████████████████████████████████████████████████████████▌    | 94/100 [03:56<00:15,  2.52s/it]"
     ]
    },
    {
     "name": "stdout",
     "output_type": "stream",
     "text": [
      "Epoch [94/50], Train Loss: 47.5249, Validation Loss: 58.9630\n"
     ]
    },
    {
     "name": "stderr",
     "output_type": "stream",
     "text": [
      " 95%|█████████████████████████████████████████████████████████████████████▎   | 95/100 [03:59<00:12,  2.51s/it]"
     ]
    },
    {
     "name": "stdout",
     "output_type": "stream",
     "text": [
      "Epoch [95/50], Train Loss: 45.8150, Validation Loss: 55.3402\n"
     ]
    },
    {
     "name": "stderr",
     "output_type": "stream",
     "text": [
      " 96%|██████████████████████████████████████████████████████████████████████   | 96/100 [04:01<00:10,  2.51s/it]"
     ]
    },
    {
     "name": "stdout",
     "output_type": "stream",
     "text": [
      "Epoch [96/50], Train Loss: 46.1536, Validation Loss: 66.4797\n"
     ]
    },
    {
     "name": "stderr",
     "output_type": "stream",
     "text": [
      " 97%|██████████████████████████████████████████████████████████████████████▊  | 97/100 [04:04<00:07,  2.51s/it]"
     ]
    },
    {
     "name": "stdout",
     "output_type": "stream",
     "text": [
      "Epoch [97/50], Train Loss: 49.2610, Validation Loss: 58.7429\n"
     ]
    },
    {
     "name": "stderr",
     "output_type": "stream",
     "text": [
      " 98%|███████████████████████████████████████████████████████████████████████▌ | 98/100 [04:06<00:05,  2.51s/it]"
     ]
    },
    {
     "name": "stdout",
     "output_type": "stream",
     "text": [
      "Epoch [98/50], Train Loss: 46.3662, Validation Loss: 67.1089\n"
     ]
    },
    {
     "name": "stderr",
     "output_type": "stream",
     "text": [
      " 99%|████████████████████████████████████████████████████████████████████████▎| 99/100 [04:09<00:02,  2.51s/it]"
     ]
    },
    {
     "name": "stdout",
     "output_type": "stream",
     "text": [
      "Epoch [99/50], Train Loss: 44.0771, Validation Loss: 60.7610\n"
     ]
    },
    {
     "name": "stderr",
     "output_type": "stream",
     "text": [
      "100%|████████████████████████████████████████████████████████████████████████| 100/100 [04:11<00:00,  2.52s/it]"
     ]
    },
    {
     "name": "stdout",
     "output_type": "stream",
     "text": [
      "Epoch [100/50], Train Loss: 42.9767, Validation Loss: 58.5091\n",
      "Training finished.\n",
      "42.32991609163582\n"
     ]
    },
    {
     "name": "stderr",
     "output_type": "stream",
     "text": [
      "\n"
     ]
    },
    {
     "data": {
      "text/plain": [
       "<All keys matched successfully>"
      ]
     },
     "execution_count": 5,
     "metadata": {},
     "output_type": "execute_result"
    }
   ],
   "source": [
    "import torch\n",
    "import torch.nn as nn\n",
    "import torch.nn.functional as F\n",
    "import torch.optim as optim\n",
    "from torch.utils.data import DataLoader, Dataset\n",
    "\n",
    "from tqdm import tqdm\n",
    "import numpy as np\n",
    "import pandas as pd\n",
    "import random\n",
    "import matplotlib.pyplot as plt\n",
    "import seaborn as sns\n",
    "sns.set_style('dark')\n",
    "\n",
    "def expand_data(dataframe, name):\n",
    "    '''inputs: original dataframe with values for ONE station'''\n",
    "\n",
    "    dataframe_copy = dataframe.copy()\n",
    "\n",
    "    # create new dataframe with index as every hour\n",
    "    dataframe_copy['Time'] = pd.to_datetime(dataframe_copy['charging_hour'], format='%Y-%m-%d %H:%M:%S+00:00').dt.tz_localize(None)\n",
    "\n",
    "    start_index = dataframe_copy.iloc[0, -1].date() #starting point is the day of the first index\n",
    "    end_index = dataframe_copy.iloc[-1, -1].date() # ending pojnt is the day of the last index\n",
    "    indices = pd.date_range(start_index, end_index, freq='1H')\n",
    "\n",
    "    dataframe_copy.set_index('Time', inplace=True)\n",
    "\n",
    "    print(dataframe.describe())\n",
    "    #dataframe.describe().to_csv('Opis podataka Osijek.csv', sep=';')\n",
    "\n",
    "    # new_dataframe is a dataframe that is expanded with zero values\n",
    "    new_dataframe = pd.DataFrame(index=indices, data=dataframe_copy)\n",
    "\n",
    "    # important features (charging_minutes, consumption, utilization) are filled with zeros\n",
    "    # other values (that are the same for each time step) are copied - like connector_count and location_accesstype\n",
    "    new_dataframe['location_accesstype_title'] = new_dataframe['location_accesstype_title'].fillna(dataframe_copy['location_accesstype_title'][0])\n",
    "    new_dataframe['charging_hour'] = new_dataframe['charging_hour'].fillna(np.nan)\n",
    "    # charging_hour column is filled with Nan values because it will be later dropped and is not necessary\n",
    "    new_dataframe['utilization'] = new_dataframe['utilization'].fillna(0.0)\n",
    "    new_dataframe['connector_count'] = new_dataframe['connector_count'].fillna(dataframe_copy['connector_count'][0])\n",
    "    new_dataframe['congested_connectors'] = new_dataframe['congested_connectors'].fillna(0.0)\n",
    "    new_dataframe['energy_consumption'] = new_dataframe['energy_consumption'].fillna(0.0)\n",
    "    new_dataframe['charging_minutes'] = new_dataframe['charging_minutes'].fillna(0.0)\n",
    "\n",
    "    # new_dataframe is then save to the .csv file\n",
    "    # new_dataframe.to_csv(r'C:\\Users\\ZVNE\\OneDrive - fer.hr\\projekti\\E-Mobility Grčka\\station data expanded ' + str(name) + '.csv', sep=';')\n",
    "\n",
    "    # expanded dataframe is returned\n",
    "    return new_dataframe\n",
    "\n",
    "class CustomDataset(Dataset):\n",
    "    def __init__(self, seq_len=5, max_len=1000, seq = []):\n",
    "        super(CustomDataset).__init__()\n",
    "        self.datalist = seq\n",
    "        self.data, self.targets = self.timeseries(self.datalist, seq_len)\n",
    "\n",
    "    def __len__(self):\n",
    "        return len(self.data)\n",
    "\n",
    "    def timeseries(self, data, window):\n",
    "        temp = []\n",
    "        targ = data[window:]\n",
    "        for i in range(len(data)-window):\n",
    "            temp.append(data[i:i+window])\n",
    "\n",
    "        return np.array(temp), targ\n",
    "\n",
    "    def __getitem__(self, index):\n",
    "        x = torch.tensor(self.data[index]).type(torch.Tensor)\n",
    "        y = torch.tensor(self.targets[index]).type(torch.Tensor)\n",
    "        return x,y\n",
    "\n",
    "\n",
    "class RNN(nn.Module):\n",
    "    def __init__(self, input_size, hidden_size, num_layers):\n",
    "        super().__init__()\n",
    "        self.hidden_size = hidden_size\n",
    "        self.num_layers = num_layers\n",
    "\n",
    "        self.lstm = nn.LSTM(input_size,hidden_size,num_layers,batch_first=True)\n",
    "        self.fc = nn.Linear(hidden_size, 1)\n",
    "\n",
    "    def forward(self, x):\n",
    "        # hidden states not defnined hence the value of h0,c0 == (0,0)\n",
    "        out, (hn, cn) = self.lstm(x)\n",
    "\n",
    "        # as the diagram suggest to take the last output in many to one\n",
    "        # print(out.shape)\n",
    "        # print(hn.shape)\n",
    "        # all batch, last column of seq, all hidden values\n",
    "        out = out[:, -1, :]\n",
    "        out = self.fc(out)\n",
    "\n",
    "        return out\n",
    "\n",
    "\n",
    "df = pd.read_csv('station_data_hour_Opatija.csv')\n",
    "\n",
    "\n",
    "\n",
    "expanded_data = expand_data(df, \"name1\")\n",
    "print(expanded_data)\n",
    "data = expanded_data['utilization']\n",
    "print(data)\n",
    "data_np = data.to_numpy()\n",
    "\n",
    "train_size = int(len(data_np) * 0.8)\n",
    "val_size = int(len(data_np) * 0.1)\n",
    "test_size = len(data_np) - train_size - val_size\n",
    "\n",
    "train = data_np[:train_size]\n",
    "val = data_np[train_size:train_size+val_size]\n",
    "test = data_np[train_size+ val_size:]\n",
    "\n",
    "train_dataset = CustomDataset(seq_len=64, max_len=len(train), seq = train)\n",
    "val_dataset = CustomDataset(seq_len=64, max_len=len(val), seq = val)\n",
    "test_dataset = CustomDataset(seq_len=64, max_len=len(test), seq = test)\n",
    "\n",
    "\n",
    "train_dataloader = DataLoader(train_dataset, batch_size=64, shuffle=False)\n",
    "val_dataloader = DataLoader(val_dataset, batch_size=64, shuffle=False)\n",
    "test_dataloader = DataLoader(test_dataset, batch_size=64, shuffle=False)\n",
    "#collate_fn=custom_collector\n",
    "\n",
    "device = torch.device(\"cuda\" if torch.cuda.is_available() else \"cpu\")\n",
    "model = RNN(input_size=1, hidden_size=256, num_layers=4).to(device)\n",
    "\n",
    "loss_function = nn.MSELoss()\n",
    "learning_rate = 0.001\n",
    "optimizer = optim.Adam(model.parameters(), lr=learning_rate)\n",
    "\n",
    "\n",
    "# Placeholder for the best validation accuracy\n",
    "best_val_loss = float('inf')  # Initialize with a large value\n",
    "\n",
    "\n",
    "for e in tqdm(range(100)):\n",
    "    model.train()\n",
    "    total_loss = 0\n",
    "    for x,y in train_dataloader:\n",
    "        optimizer.zero_grad()\n",
    "\n",
    "        x, y = x.to(device), y.to(device)\n",
    "        x = torch.unsqueeze(x, 0).permute(1,2,0)\n",
    "        # forward\n",
    "        predictions = model(x)\n",
    "\n",
    "        loss = loss_function(predictions.view(-1), y.to(device))\n",
    "\n",
    "        # backward\n",
    "        loss.backward()\n",
    "\n",
    "        # optimization\n",
    "        optimizer.step()\n",
    "\n",
    "        total_loss += loss.item()\n",
    "\n",
    "    average_train_loss = total_loss / len(train_dataloader)\n",
    "\n",
    "\n",
    "    # Validation\n",
    "    model.eval()\n",
    "    val_loss = 0\n",
    "    predictions_list = []\n",
    "    with torch.no_grad():\n",
    "        # Initialize validation hidden states and cell states with the final states of the training set\n",
    "        #h0_val = h0.detach().clone()\n",
    "        #c0_val = c0.detach().clone()\n",
    "\n",
    "        for x_val,y_val in val_dataloader:\n",
    "            x_val, y_val = x_val.to(device), y_val.to(device)\n",
    "\n",
    "            # Forward pass with hidden states\n",
    "            x_val = torch.unsqueeze(x_val, 0).permute(1,2,0)\n",
    "            predictions = model(x_val)\n",
    "            #print(predictions.view(-1))\n",
    "            #print(y_val)\n",
    "            loss = loss_function(predictions.view(-1), y_val)\n",
    "            val_loss += loss.item()\n",
    "\n",
    "            # store predictions\n",
    "            predictions_list.extend(predictions.cpu().numpy())\n",
    "\n",
    "    average_val_loss = val_loss / len(val_dataloader)\n",
    "    # keep the model with the best performance in the validation set\n",
    "    if average_val_loss < best_val_loss:\n",
    "        best_val_loss = average_val_loss\n",
    "        best_model_state = model.state_dict()\n",
    "        best_predictions = predictions_list\n",
    "\n",
    "    print(f'Epoch [{e+1}/{50}], Train Loss: {average_train_loss:.4f}, Validation Loss: {average_val_loss:.4f}')\n",
    "\n",
    "print('Training finished.')\n",
    "print(best_val_loss)\n",
    "\n",
    "model.load_state_dict(best_model_state)\n",
    "\n",
    "\n"
   ]
  },
  {
   "cell_type": "code",
   "execution_count": 6,
   "metadata": {},
   "outputs": [
    {
     "name": "stdout",
     "output_type": "stream",
     "text": [
      "torch.Size([64, 1])\n"
     ]
    },
    {
     "data": {
      "image/png": "[encoded data removed]",
      "text/plain": [
       "<Figure size 640x480 with 1 Axes>"
      ]
     },
     "metadata": {},
     "output_type": "display_data"
    }
   ],
   "source": [
    "with torch.no_grad():\n",
    "  for x_test,y_test in test_dataloader:\n",
    "      #optimizer.zero_grad()\n",
    "\n",
    "    x_test, y_test = x_test.to(device), y_test.to(device)\n",
    "    x_test = torch.unsqueeze(x_test, 0).permute(1,2,0)\n",
    "    # forward\n",
    "    predictions = model(x_test)\n",
    "    break\n",
    "\n",
    "print(predictions.shape)\n",
    "\n",
    "plt.plot(np.array(y_test.cpu()), label='Actual Utilization')\n",
    "plt.plot(np.array(predictions.cpu()), label='Predicted Utilization')\n",
    "plt.xlabel('hour')\n",
    "plt.ylabel('Utilization')\n",
    "plt.legend()\n",
    "plt.show()"
   ]
  },
  {
   "cell_type": "code",
   "execution_count": null,
   "metadata": {},
   "outputs": [],
   "source": []
  }
 ],
 "metadata": {
  "colab": {
   "authorship_tag": "ABX9TyM+HxYtL+mNOb4ABVS4vSy8",
   "provenance": []
  },
  "kernelspec": {
   "display_name": "Python 3 (ipykernel)",
   "language": "python",
   "name": "python3"
  },
  "language_info": {
   "codemirror_mode": {
    "name": "ipython",
    "version": 3
   },
   "file_extension": ".py",
   "mimetype": "text/x-python",
   "name": "python",
   "nbconvert_exporter": "python",
   "pygments_lexer": "ipython3",
   "version": "3.10.12"
  }
 },
 "nbformat": 4,
 "nbformat_minor": 4
}
